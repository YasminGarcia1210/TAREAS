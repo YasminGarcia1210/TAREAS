{
 "cells": [
  {
   "cell_type": "markdown",
   "id": "772e7cc9",
   "metadata": {},
   "source": [
    "# Clasificación de Texto con BERT y Hugging Face\n",
    "\n",
    "## 🐦💬 Análisis de Sentimientos en Tweets con BERT Multilingüe 🤖🌍❤️"
   ]
  },
  {
   "cell_type": "markdown",
   "id": "8af7d184",
   "metadata": {},
   "source": [
    "Explorando el poder de los Transformers 🤖 para detectar emociones 😡😐😄 en mensajes cortos de Twitter 🐦 multilenguaje.\n",
    "\n",
    "📊📝 Proyecto de Clasificación de Texto\n",
    "\n",
    "Dataset: Twitter Entity Sentiment Analysis (Kaggle)\n",
    "\n",
    "Modelo: BERT Multilingual Cased (Hugging Face Transformers)\n",
    "\n",
    "Tarea: Clasificación de sentimientos en cuatro categorías\n",
    "\n",
    "🟥 Negativo (0)\n",
    "\n",
    "🟨 Neutro (1)\n",
    "\n",
    "🟩 Positivo (2)\n",
    "\n",
    "⚪ Irrelevante (3)\n",
    "\n",
    "[Enlace al dataset:](https://www.kaggle.com/datasets/jp797498e/twitter-entity-sentiment-analysis/code) Revisemos los Tweets"
   ]
  },
  {
   "cell_type": "markdown",
   "id": "2d2bfa81",
   "metadata": {},
   "source": [
    "## Autores:\n",
    "### Yasmin Johanna Garcia\n",
    "### Javier Ricardo Muñoz "
   ]
  },
  {
   "cell_type": "code",
   "execution_count": 1,
   "id": "27ffc7ff",
   "metadata": {},
   "outputs": [],
   "source": [
    "!pip -q install -U transformers datasets evaluate accelerate scikit-learn"
   ]
  },
  {
   "cell_type": "code",
   "execution_count": 2,
   "id": "eaf9c999",
   "metadata": {},
   "outputs": [
    {
     "name": "stderr",
     "output_type": "stream",
     "text": [
      "c:\\Users\\yasmi\\anaconda\\envs\\torch_gpu\\lib\\site-packages\\tqdm\\auto.py:21: TqdmWarning: IProgress not found. Please update jupyter and ipywidgets. See https://ipywidgets.readthedocs.io/en/stable/user_install.html\n",
      "  from .autonotebook import tqdm as notebook_tqdm\n"
     ]
    },
    {
     "name": "stdout",
     "output_type": "stream",
     "text": [
      "🖥️ Device: cuda\n",
      "✅ GPU detectada: NVIDIA GeForce RTX 3050 Laptop GPU\n",
      "🧰 Versions -> transformers: 4.56.1 | datasets: 4.0.0 | torch: 2.5.1+cu121\n"
     ]
    }
   ],
   "source": [
    "# Importaciones esenciales\n",
    "import os, random, numpy as np, torch\n",
    "from datasets import load_dataset\n",
    "from transformers import (\n",
    "    AutoTokenizer,\n",
    "    AutoModelForSequenceClassification,\n",
    "    TrainingArguments,\n",
    "    Trainer,\n",
    "    DataCollatorWithPadding,\n",
    ")\n",
    "import evaluate\n",
    "from sklearn.metrics import classification_report, confusion_matrix\n",
    "from datetime import datetime\n",
    "\n",
    "# Reproducibilidad\n",
    "SEED = 42\n",
    "def set_seed(seed=SEED):\n",
    "    random.seed(seed)\n",
    "    np.random.seed(seed)\n",
    "    torch.manual_seed(seed)\n",
    "    torch.cuda.manual_seed_all(seed)\n",
    "\n",
    "set_seed(SEED)\n",
    "\n",
    "# Dispositivo\n",
    "device = torch.device(\"cuda\" if torch.cuda.is_available() else \"cpu\")\n",
    "print(f\"🖥️ Device: {device}\")\n",
    "if torch.cuda.is_available():\n",
    "    print(f\"✅ GPU detectada: {torch.cuda.get_device_name(0)}\")\n",
    "\n",
    "# Versiones rápidas (útil para depurar)\n",
    "import transformers, datasets\n",
    "print(\"🧰 Versions -> transformers:\", transformers.__version__, \n",
    "      \"| datasets:\", datasets.__version__, \n",
    "      \"| torch:\", torch.__version__)\n"
   ]
  },
  {
   "cell_type": "markdown",
   "id": "c82b4774",
   "metadata": {},
   "source": [
    "# Cargar el Dataset 🚀"
   ]
  },
  {
   "cell_type": "code",
   "execution_count": null,
   "id": "95a1b25d",
   "metadata": {},
   "outputs": [],
   "source": [
    "#!pip install kagglehub"
   ]
  },
  {
   "cell_type": "code",
   "execution_count": null,
   "id": "a1189bbd",
   "metadata": {},
   "outputs": [],
   "source": [
    "import kagglehub\n",
    "\n",
    "# Descargar el dataset\n",
    "path = kagglehub.dataset_download(\"jp797498e/twitter-entity-sentiment-analysis\")\n",
    "print(\"Path to dataset files:\", path)\n"
   ]
  },
  {
   "cell_type": "code",
   "execution_count": null,
   "id": "689a8ac7",
   "metadata": {},
   "outputs": [
    {
     "name": "stdout",
     "output_type": "stream",
     "text": [
      "Archivos en la carpeta descargada:\n",
      "['twitter_training.csv', 'twitter_validation.csv']\n",
      "Forma: (74681, 4)\n",
      "   2401  Borderlands  Positive  \\\n",
      "0  2401  Borderlands  Positive   \n",
      "1  2401  Borderlands  Positive   \n",
      "2  2401  Borderlands  Positive   \n",
      "3  2401  Borderlands  Positive   \n",
      "4  2401  Borderlands  Positive   \n",
      "5  2402  Borderlands  Positive   \n",
      "6  2402  Borderlands  Positive   \n",
      "7  2402  Borderlands  Positive   \n",
      "8  2402  Borderlands  Positive   \n",
      "9  2402  Borderlands  Positive   \n",
      "\n",
      "  im getting on borderlands and i will murder you all ,  \n",
      "0  I am coming to the borders and I will kill you...     \n",
      "1  im getting on borderlands and i will kill you ...     \n",
      "2  im coming on borderlands and i will murder you...     \n",
      "3  im getting on borderlands 2 and i will murder ...     \n",
      "4  im getting into borderlands and i can murder y...     \n",
      "5  So I spent a few hours making something for fu...     \n",
      "6  So I spent a couple of hours doing something f...     \n",
      "7  So I spent a few hours doing something for fun...     \n",
      "8  So I spent a few hours making something for fu...     \n",
      "9  2010 So I spent a few hours making something f...     \n"
     ]
    }
   ],
   "source": [
    "import os\n",
    "import pandas as pd\n",
    "\n",
    "# Ruta que imprimió kagglehub\n",
    "print(\"Archivos en la carpeta descargada:\")\n",
    "print(os.listdir(path))\n",
    "\n",
    "# Cargar CSV principal\n",
    "csv_path = os.path.join(path, \"twitter_training.csv\") \n",
    "df = pd.read_csv(csv_path)\n",
    "\n",
    "print(\"Forma:\", df.shape)\n",
    "print(df.head(10))\n",
    "\n"
   ]
  },
  {
   "cell_type": "markdown",
   "id": "cd567ff9",
   "metadata": {},
   "source": [
    "## Tratamiento del Dataset"
   ]
  },
  {
   "cell_type": "code",
   "execution_count": 12,
   "id": "78578f8b",
   "metadata": {},
   "outputs": [
    {
     "name": "stdout",
     "output_type": "stream",
     "text": [
      "                                                text sentiment  label\n",
      "0  I am coming to the borders and I will kill you...  Positive      2\n",
      "1  im getting on borderlands and i will kill you ...  Positive      2\n",
      "2  im coming on borderlands and i will murder you...  Positive      2\n",
      "3  im getting on borderlands 2 and i will murder ...  Positive      2\n",
      "4  im getting into borderlands and i can murder y...  Positive      2\n",
      "5  So I spent a few hours making something for fu...  Positive      2\n",
      "6  So I spent a couple of hours doing something f...  Positive      2\n",
      "7  So I spent a few hours doing something for fun...  Positive      2\n",
      "8  So I spent a few hours making something for fu...  Positive      2\n",
      "9  2010 So I spent a few hours making something f...  Positive      2\n",
      "\n",
      "Distribución de clases:\n",
      "label\n",
      "0    22542\n",
      "2    20831\n",
      "1    18318\n",
      "3    12990\n",
      "Name: count, dtype: int64\n"
     ]
    }
   ],
   "source": [
    "# Renombrar columnas\n",
    "df.columns = [\"tweet_id\", \"entity\", \"sentiment\", \"text\"]\n",
    "\n",
    "# Mapeo de etiquetas a números\n",
    "label2id = {\"Negative\": 0, \"Neutral\": 1, \"Positive\": 2, \"Irrelevant\": 3}\n",
    "id2label = {v: k for k, v in label2id.items()}\n",
    "\n",
    "df[\"label\"] = df[\"sentiment\"].map(label2id)\n",
    "\n",
    "# Verificamos\n",
    "print(df.head(10)[[\"text\", \"sentiment\", \"label\"]])\n",
    "print(\"\\nDistribución de clases:\")\n",
    "print(df[\"label\"].value_counts())\n"
   ]
  },
  {
   "cell_type": "code",
   "execution_count": 17,
   "id": "8674581c",
   "metadata": {},
   "outputs": [
    {
     "name": "stdout",
     "output_type": "stream",
     "text": [
      "                                                text  label\n",
      "0  I am coming to the borders and I will kill you...      2\n",
      "1  im getting on borderlands and i will kill you ...      2\n",
      "2  im coming on borderlands and i will murder you...      2\n",
      "3  im getting on borderlands 2 and i will murder ...      2\n",
      "4  im getting into borderlands and i can murder y...      2\n",
      "\n",
      "Distribución de clases:\n",
      "label\n",
      "0    22358\n",
      "2    20654\n",
      "1    18108\n",
      "3    12875\n",
      "Name: count, dtype: int64\n"
     ]
    }
   ],
   "source": [
    "# Nos quedamos solo con columnas necesarias\n",
    "df_clean = df[[\"text\", \"label\"]].dropna()\n",
    "\n",
    "# Confirmamos\n",
    "print(df_clean.head(5))\n",
    "print(\"\\nDistribución de clases:\")\n",
    "print(df_clean[\"label\"].value_counts())\n"
   ]
  },
  {
   "cell_type": "markdown",
   "id": "3eeb05b4",
   "metadata": {},
   "source": [
    "# Distribución Por Categoria "
   ]
  },
  {
   "cell_type": "code",
   "execution_count": 37,
   "id": "bef227b3",
   "metadata": {},
   "outputs": [
    {
     "name": "stderr",
     "output_type": "stream",
     "text": [
      "C:\\Users\\yasmi\\AppData\\Roaming\\Python\\Python310\\site-packages\\IPython\\core\\pylabtools.py:170: UserWarning: Glyph 128202 (\\N{BAR CHART}) missing from font(s) DejaVu Sans.\n",
      "  fig.canvas.print_figure(bytes_io, **kw)\n"
     ]
    },
    {
     "data": {
      "image/png": "[encoded data removed]",
      "text/plain": [
       "<Figure size 640x480 with 1 Axes>"
      ]
     },
     "metadata": {},
     "output_type": "display_data"
    }
   ],
   "source": [
    "label_names = {0: \"Negative\", 1: \"Neutral\", 2: \"Positive\", 3: \"Irrelevant\"}\n",
    "\n",
    "df_clean[\"label\"].map(label_names).value_counts(ascending=True).plot.barh(color=\"lightgreen\", edgecolor=\"black\")\n",
    "\n",
    "plt.title(\"📊 Distribución de categorías de clases\")\n",
    "plt.xlabel(\"Número de ejemplos\")\n",
    "plt.ylabel(\"Clase\")\n",
    "plt.show()\n"
   ]
  },
  {
   "cell_type": "code",
   "execution_count": 38,
   "id": "a9b847e0",
   "metadata": {},
   "outputs": [
    {
     "name": "stderr",
     "output_type": "stream",
     "text": [
      "C:\\Users\\yasmi\\AppData\\Roaming\\Python\\Python310\\site-packages\\IPython\\core\\pylabtools.py:170: UserWarning: Glyph 128202 (\\N{BAR CHART}) missing from font(s) DejaVu Sans.\n",
      "  fig.canvas.print_figure(bytes_io, **kw)\n"
     ]
    },
    {
     "data": {
      "image/png": "[encoded data removed]",
      "text/plain": [
       "<Figure size 1000x600 with 1 Axes>"
      ]
     },
     "metadata": {},
     "output_type": "display_data"
    }
   ],
   "source": [
    "# Calcular cantidad de palabras por tweet\n",
    "df_clean[\"Palabras_por_Texto\"] = df_clean[\"text\"].str.split().apply(len)\n",
    "\n",
    "# Boxplot por clase (usando label numérico)\n",
    "df_clean.boxplot(\"Palabras_por_Texto\", by=\"label\", grid=False, showfliers=False, color=\"black\", figsize=(10,6))\n",
    "\n",
    "plt.suptitle(\"\")\n",
    "plt.title(\"📊 Distribución de longitud de tweets por clase\")\n",
    "plt.xlabel(\"Clase (0=Neg, 1=Neu, 2=Pos, 3=Irr)\")\n",
    "plt.ylabel(\"Número de palabras\")\n",
    "plt.show()\n"
   ]
  },
  {
   "cell_type": "markdown",
   "id": "64f4606d",
   "metadata": {},
   "source": [
    "# 📦 Tokenizador\n",
    "\n",
    "Modelo que trata mas de 100 idiomas 🔎"
   ]
  },
  {
   "cell_type": "code",
   "execution_count": 18,
   "id": "720cae3c",
   "metadata": {},
   "outputs": [
    {
     "name": "stdout",
     "output_type": "stream",
     "text": [
      "Texto original: I am coming to the borders and I will kill you all,\n",
      "Tokens: [101, 146, 10392, 23959, 10114, 10105, 47360, 10111, 146, 11337, 32099, 13028, 10435, 117, 102, 0, 0, 0, 0, 0]\n",
      "Shape: 64\n"
     ]
    }
   ],
   "source": [
    "from transformers import AutoTokenizer\n",
    "\n",
    "# Elegimos un modelo multilingüe\n",
    "MODEL_NAME = \"bert-base-multilingual-cased\"\n",
    "\n",
    "# Cargamos el tokenizador\n",
    "tokenizer = AutoTokenizer.from_pretrained(MODEL_NAME)\n",
    "\n",
    "# Probamos tokenización con un ejemplo\n",
    "example = df[\"text\"].iloc[0]\n",
    "tokens = tokenizer(example, padding=\"max_length\", truncation=True, max_length=64)\n",
    "\n",
    "print(\"Texto original:\", example)\n",
    "print(\"Tokens:\", tokens[\"input_ids\"][:20])  # solo mostramos 20 para no alargar\n",
    "print(\"Shape:\", len(tokens[\"input_ids\"]))"
   ]
  },
  {
   "cell_type": "markdown",
   "id": "54e731d6",
   "metadata": {},
   "source": [
    "\n"
   ]
  },
  {
   "cell_type": "code",
   "execution_count": 22,
   "id": "9f1f8a7a",
   "metadata": {},
   "outputs": [
    {
     "name": "stderr",
     "output_type": "stream",
     "text": [
      "Map: 100%|██████████| 73995/73995 [00:08<00:00, 8683.16 examples/s] "
     ]
    },
    {
     "name": "stdout",
     "output_type": "stream",
     "text": [
      "Dataset({\n",
      "    features: ['label', '__index_level_0__', 'input_ids', 'token_type_ids', 'attention_mask'],\n",
      "    num_rows: 73995\n",
      "})\n",
      "{'label': 2, '__index_level_0__': 0, 'input_ids': [101, 146, 10392, 23959, 10114, 10105, 47360, 10111, 146, 11337, 32099, 13028, 10435, 117, 102, 0, 0, 0, 0, 0, 0, 0, 0, 0, 0, 0, 0, 0, 0, 0, 0, 0, 0, 0, 0, 0, 0, 0, 0, 0, 0, 0, 0, 0, 0, 0, 0, 0, 0, 0, 0, 0, 0, 0, 0, 0, 0, 0, 0, 0, 0, 0, 0, 0, 0, 0, 0, 0, 0, 0, 0, 0, 0, 0, 0, 0, 0, 0, 0, 0, 0, 0, 0, 0, 0, 0, 0, 0, 0, 0, 0, 0, 0, 0, 0, 0, 0, 0, 0, 0, 0, 0, 0, 0, 0, 0, 0, 0, 0, 0, 0, 0, 0, 0, 0, 0, 0, 0, 0, 0, 0, 0, 0, 0, 0, 0, 0, 0], 'token_type_ids': [0, 0, 0, 0, 0, 0, 0, 0, 0, 0, 0, 0, 0, 0, 0, 0, 0, 0, 0, 0, 0, 0, 0, 0, 0, 0, 0, 0, 0, 0, 0, 0, 0, 0, 0, 0, 0, 0, 0, 0, 0, 0, 0, 0, 0, 0, 0, 0, 0, 0, 0, 0, 0, 0, 0, 0, 0, 0, 0, 0, 0, 0, 0, 0, 0, 0, 0, 0, 0, 0, 0, 0, 0, 0, 0, 0, 0, 0, 0, 0, 0, 0, 0, 0, 0, 0, 0, 0, 0, 0, 0, 0, 0, 0, 0, 0, 0, 0, 0, 0, 0, 0, 0, 0, 0, 0, 0, 0, 0, 0, 0, 0, 0, 0, 0, 0, 0, 0, 0, 0, 0, 0, 0, 0, 0, 0, 0, 0], 'attention_mask': [1, 1, 1, 1, 1, 1, 1, 1, 1, 1, 1, 1, 1, 1, 1, 0, 0, 0, 0, 0, 0, 0, 0, 0, 0, 0, 0, 0, 0, 0, 0, 0, 0, 0, 0, 0, 0, 0, 0, 0, 0, 0, 0, 0, 0, 0, 0, 0, 0, 0, 0, 0, 0, 0, 0, 0, 0, 0, 0, 0, 0, 0, 0, 0, 0, 0, 0, 0, 0, 0, 0, 0, 0, 0, 0, 0, 0, 0, 0, 0, 0, 0, 0, 0, 0, 0, 0, 0, 0, 0, 0, 0, 0, 0, 0, 0, 0, 0, 0, 0, 0, 0, 0, 0, 0, 0, 0, 0, 0, 0, 0, 0, 0, 0, 0, 0, 0, 0, 0, 0, 0, 0, 0, 0, 0, 0, 0, 0]}\n"
     ]
    },
    {
     "name": "stderr",
     "output_type": "stream",
     "text": [
      "\n"
     ]
    }
   ],
   "source": [
    "from datasets import Dataset\n",
    "from transformers import DataCollatorWithPadding\n",
    "\n",
    "# Convertimos el DataFrame limpio a Hugging Face Dataset\n",
    "dataset = Dataset.from_pandas(df_clean)\n",
    "\n",
    "# Tokenización\n",
    "def tokenize_function(batch):\n",
    "    return tokenizer(batch[\"text\"], truncation=True, padding=\"max_length\", max_length=128)\n",
    "\n",
    "tokenized_dataset = dataset.map(tokenize_function, batched=True, remove_columns=[\"text\"])\n",
    "\n",
    "# Collator para batches dinámicos\n",
    "data_collator = DataCollatorWithPadding(tokenizer=tokenizer)\n",
    "\n",
    "print(tokenized_dataset)\n",
    "print(tokenized_dataset[0])\n",
    "\n"
   ]
  },
  {
   "cell_type": "markdown",
   "id": "9a5de0fd",
   "metadata": {},
   "source": [
    "# Separar train/validación y montar el modelo 🤖"
   ]
  },
  {
   "cell_type": "markdown",
   "id": "27d20a0f",
   "metadata": {},
   "source": [
    "En esta etapa dividimos el conjunto de datos en entrenamiento (80%) y validación (20%) para garantizar que el modelo pueda generalizar y no se limite a memorizar ejemplos. \n",
    "\n",
    "\n",
    "Se seleccionó el modelo BERT multilingüe (bert-base-multilingual-cased) porque ofrece soporte tanto para inglés como para español, lo que lo hace flexible para futuros experimentos en ambos idiomas. Además, se configuraron parámetros de entrenamiento estándar en NLP (batch size de 16, tasa de aprendizaje de 2e-5 y 2 épocas) que equilibran eficiencia y calidad, permitiendo obtener un modelo base sólido sin requerir recursos de cómputo excesivos."
   ]
  },
  {
   "cell_type": "code",
   "execution_count": null,
   "id": "6804357a",
   "metadata": {},
   "outputs": [
    {
     "name": "stdout",
     "output_type": "stream",
     "text": [
      "DatasetDict({\n",
      "    train: Dataset({\n",
      "        features: ['label', '__index_level_0__', 'input_ids', 'token_type_ids', 'attention_mask'],\n",
      "        num_rows: 59196\n",
      "    })\n",
      "    validation: Dataset({\n",
      "        features: ['label', '__index_level_0__', 'input_ids', 'token_type_ids', 'attention_mask'],\n",
      "        num_rows: 14799\n",
      "    })\n",
      "})\n"
     ]
    }
   ],
   "source": [
    "from datasets import DatasetDict\n",
    "\n",
    "# 80% train, 20% validación\n",
    "split_dataset = tokenized_dataset.train_test_split(test_size=0.2, seed=42)\n",
    "\n",
    "datasets = DatasetDict({\n",
    "    \"train\": split_dataset[\"train\"],\n",
    "    \"validation\": split_dataset[\"test\"]\n",
    "})\n",
    "\n",
    "print(datasets)\n",
    "\n"
   ]
  },
  {
   "cell_type": "code",
   "execution_count": 24,
   "id": "599c6a6d",
   "metadata": {},
   "outputs": [
    {
     "name": "stderr",
     "output_type": "stream",
     "text": [
      "Xet Storage is enabled for this repo, but the 'hf_xet' package is not installed. Falling back to regular HTTP download. For better performance, install the package with: `pip install huggingface_hub[hf_xet]` or `pip install hf_xet`\n",
      "Some weights of BertForSequenceClassification were not initialized from the model checkpoint at bert-base-multilingual-cased and are newly initialized: ['classifier.bias', 'classifier.weight']\n",
      "You should probably TRAIN this model on a down-stream task to be able to use it for predictions and inference.\n"
     ]
    }
   ],
   "source": [
    "# Cargar el modelo\n",
    "from transformers import AutoModelForSequenceClassification\n",
    "\n",
    "# Definimos número de clases\n",
    "num_labels = len(df_clean[\"label\"].unique())\n",
    "\n",
    "model = AutoModelForSequenceClassification.from_pretrained(\n",
    "    \"bert-base-multilingual-cased\",\n",
    "    num_labels=num_labels,\n",
    "    id2label={0: \"Negative\", 1: \"Neutral\", 2: \"Positive\", 3: \"Irrelevant\"},\n",
    "    label2id={\"Negative\": 0, \"Neutral\": 1, \"Positive\": 2, \"Irrelevant\": 3}\n",
    ").to(device)\n"
   ]
  },
  {
   "cell_type": "code",
   "execution_count": null,
   "id": "d0d9f9c9",
   "metadata": {},
   "outputs": [],
   "source": [
    "!pip install -U transformers\n"
   ]
  },
  {
   "cell_type": "code",
   "execution_count": 29,
   "id": "39592080",
   "metadata": {},
   "outputs": [
    {
     "name": "stdout",
     "output_type": "stream",
     "text": [
      "Transformers: 4.56.1\n",
      "Python: c:\\Users\\yasmi\\anaconda\\envs\\torch_gpu\\python.exe\n",
      "✅ Usando API antigua (fallback) de TrainingArguments.\n"
     ]
    }
   ],
   "source": [
    "from transformers import TrainingArguments\n",
    "from packaging import version\n",
    "import transformers, sys\n",
    "\n",
    "print(\"Transformers:\", transformers.__version__)\n",
    "print(\"Python:\", sys.executable)\n",
    "\n",
    "# Intento con API moderna (Transformers 4.x)\n",
    "try:\n",
    "    training_args = TrainingArguments(\n",
    "        output_dir=\"./results\",\n",
    "        evaluation_strategy=\"epoch\",   # eval cada época (4.x)\n",
    "        save_strategy=\"epoch\",         # guarda cada época (4.x)\n",
    "        learning_rate=2e-5,\n",
    "        per_device_train_batch_size=16,\n",
    "        per_device_eval_batch_size=16,\n",
    "        num_train_epochs=2,\n",
    "        weight_decay=0.01,\n",
    "        logging_dir=\"./logs\",\n",
    "        logging_steps=50,\n",
    "        load_best_model_at_end=True,\n",
    "        metric_for_best_model=\"f1\",\n",
    "        greater_is_better=True,\n",
    "    )\n",
    "    print(\"✅ Usando API moderna (4.x) de TrainingArguments.\")\n",
    "except TypeError:\n",
    "    # Fallback a API antigua (2.x / 3.x)\n",
    "    training_args = TrainingArguments(\n",
    "        output_dir=\"./results\",\n",
    "        do_eval=True,          # activa evaluación\n",
    "        eval_steps=500,        # eval cada 500 steps\n",
    "        save_steps=500,        # guarda cada 500 steps\n",
    "        learning_rate=2e-5,\n",
    "        per_device_train_batch_size=16,\n",
    "        per_device_eval_batch_size=16,\n",
    "        num_train_epochs=2,\n",
    "        weight_decay=0.01,\n",
    "        logging_dir=\"./logs\",\n",
    "        logging_steps=50,\n",
    "    )\n",
    "    print(\"✅ Usando API antigua (fallback) de TrainingArguments.\")\n"
   ]
  },
  {
   "cell_type": "markdown",
   "id": "2e825c7b",
   "metadata": {},
   "source": [
    "# Metricas "
   ]
  },
  {
   "cell_type": "code",
   "execution_count": 30,
   "id": "1f841db5",
   "metadata": {},
   "outputs": [
    {
     "name": "stderr",
     "output_type": "stream",
     "text": [
      "Downloading builder script: 4.20kB [00:00, 4.20MB/s]\n",
      "Downloading builder script: 6.79kB [00:00, 2.24MB/s]\n"
     ]
    }
   ],
   "source": [
    "import evaluate\n",
    "import numpy as np\n",
    "\n",
    "accuracy = evaluate.load(\"accuracy\")\n",
    "f1 = evaluate.load(\"f1\")\n",
    "\n",
    "def compute_metrics(eval_pred):\n",
    "    logits, labels = eval_pred\n",
    "    preds = np.argmax(logits, axis=-1)\n",
    "    return {\n",
    "        \"accuracy\": accuracy.compute(predictions=preds, references=labels)[\"accuracy\"],\n",
    "        \"f1\": f1.compute(predictions=preds, references=labels, average=\"weighted\")[\"f1\"],\n",
    "    }\n"
   ]
  },
  {
   "cell_type": "code",
   "execution_count": 31,
   "id": "09881774",
   "metadata": {},
   "outputs": [
    {
     "name": "stdout",
     "output_type": "stream",
     "text": [
      "<transformers.trainer.Trainer object at 0x000002A8412FF5B0>\n"
     ]
    },
    {
     "name": "stderr",
     "output_type": "stream",
     "text": [
      "C:\\Users\\yasmi\\AppData\\Local\\Temp\\ipykernel_18688\\1699408870.py:4: FutureWarning: `tokenizer` is deprecated and will be removed in version 5.0.0 for `Trainer.__init__`. Use `processing_class` instead.\n",
      "  trainer = Trainer(\n"
     ]
    }
   ],
   "source": [
    "# Trainer\n",
    "from transformers import Trainer\n",
    "\n",
    "trainer = Trainer(\n",
    "    model=model,\n",
    "    args=training_args,\n",
    "    train_dataset=datasets[\"train\"],\n",
    "    eval_dataset=datasets[\"validation\"],\n",
    "    tokenizer=tokenizer,\n",
    "    data_collator=data_collator,\n",
    "    compute_metrics=compute_metrics,\n",
    ")\n",
    "print(trainer)"
   ]
  },
  {
   "cell_type": "markdown",
   "id": "350f05cb",
   "metadata": {},
   "source": [
    "## Entrenar el modelo  🚀\n"
   ]
  },
  {
   "cell_type": "code",
   "execution_count": 32,
   "id": "939cbd30",
   "metadata": {},
   "outputs": [
    {
     "data": {
      "text/html": [
       "\n",
       "    <div>\n",
       "      \n",
       "      <progress value='7400' max='7400' style='width:300px; height:20px; vertical-align: middle;'></progress>\n",
       "      [7400/7400 2:14:23, Epoch 2/2]\n",
       "    </div>\n",
       "    <table border=\"1\" class=\"dataframe\">\n",
       "  <thead>\n",
       " <tr style=\"text-align: left;\">\n",
       "      <th>Step</th>\n",
       "      <th>Training Loss</th>\n",
       "    </tr>\n",
       "  </thead>\n",
       "  <tbody>\n",
       "    <tr>\n",
       "      <td>50</td>\n",
       "      <td>1.357100</td>\n",
       "    </tr>\n",
       "    <tr>\n",
       "      <td>100</td>\n",
       "      <td>1.269300</td>\n",
       "    </tr>\n",
       "    <tr>\n",
       "      <td>150</td>\n",
       "      <td>1.219100</td>\n",
       "    </tr>\n",
       "    <tr>\n",
       "      <td>200</td>\n",
       "      <td>1.147300</td>\n",
       "    </tr>\n",
       "    <tr>\n",
       "      <td>250</td>\n",
       "      <td>1.144000</td>\n",
       "    </tr>\n",
       "    <tr>\n",
       "      <td>300</td>\n",
       "      <td>1.137500</td>\n",
       "    </tr>\n",
       "    <tr>\n",
       "      <td>350</td>\n",
       "      <td>1.086500</td>\n",
       "    </tr>\n",
       "    <tr>\n",
       "      <td>400</td>\n",
       "      <td>1.112900</td>\n",
       "    </tr>\n",
       "    <tr>\n",
       "      <td>450</td>\n",
       "      <td>1.061000</td>\n",
       "    </tr>\n",
       "    <tr>\n",
       "      <td>500</td>\n",
       "      <td>1.072500</td>\n",
       "    </tr>\n",
       "    <tr>\n",
       "      <td>550</td>\n",
       "      <td>1.053500</td>\n",
       "    </tr>\n",
       "    <tr>\n",
       "      <td>600</td>\n",
       "      <td>1.063800</td>\n",
       "    </tr>\n",
       "    <tr>\n",
       "      <td>650</td>\n",
       "      <td>1.063800</td>\n",
       "    </tr>\n",
       "    <tr>\n",
       "      <td>700</td>\n",
       "      <td>1.091000</td>\n",
       "    </tr>\n",
       "    <tr>\n",
       "      <td>750</td>\n",
       "      <td>1.011900</td>\n",
       "    </tr>\n",
       "    <tr>\n",
       "      <td>800</td>\n",
       "      <td>1.018900</td>\n",
       "    </tr>\n",
       "    <tr>\n",
       "      <td>850</td>\n",
       "      <td>1.004500</td>\n",
       "    </tr>\n",
       "    <tr>\n",
       "      <td>900</td>\n",
       "      <td>0.969800</td>\n",
       "    </tr>\n",
       "    <tr>\n",
       "      <td>950</td>\n",
       "      <td>0.964700</td>\n",
       "    </tr>\n",
       "    <tr>\n",
       "      <td>1000</td>\n",
       "      <td>0.997100</td>\n",
       "    </tr>\n",
       "    <tr>\n",
       "      <td>1050</td>\n",
       "      <td>0.981500</td>\n",
       "    </tr>\n",
       "    <tr>\n",
       "      <td>1100</td>\n",
       "      <td>0.991400</td>\n",
       "    </tr>\n",
       "    <tr>\n",
       "      <td>1150</td>\n",
       "      <td>0.988800</td>\n",
       "    </tr>\n",
       "    <tr>\n",
       "      <td>1200</td>\n",
       "      <td>0.948400</td>\n",
       "    </tr>\n",
       "    <tr>\n",
       "      <td>1250</td>\n",
       "      <td>0.980600</td>\n",
       "    </tr>\n",
       "    <tr>\n",
       "      <td>1300</td>\n",
       "      <td>0.969900</td>\n",
       "    </tr>\n",
       "    <tr>\n",
       "      <td>1350</td>\n",
       "      <td>0.909000</td>\n",
       "    </tr>\n",
       "    <tr>\n",
       "      <td>1400</td>\n",
       "      <td>0.935100</td>\n",
       "    </tr>\n",
       "    <tr>\n",
       "      <td>1450</td>\n",
       "      <td>0.920300</td>\n",
       "    </tr>\n",
       "    <tr>\n",
       "      <td>1500</td>\n",
       "      <td>0.913500</td>\n",
       "    </tr>\n",
       "    <tr>\n",
       "      <td>1550</td>\n",
       "      <td>0.933500</td>\n",
       "    </tr>\n",
       "    <tr>\n",
       "      <td>1600</td>\n",
       "      <td>0.916600</td>\n",
       "    </tr>\n",
       "    <tr>\n",
       "      <td>1650</td>\n",
       "      <td>0.899800</td>\n",
       "    </tr>\n",
       "    <tr>\n",
       "      <td>1700</td>\n",
       "      <td>0.892200</td>\n",
       "    </tr>\n",
       "    <tr>\n",
       "      <td>1750</td>\n",
       "      <td>0.867500</td>\n",
       "    </tr>\n",
       "    <tr>\n",
       "      <td>1800</td>\n",
       "      <td>0.845400</td>\n",
       "    </tr>\n",
       "    <tr>\n",
       "      <td>1850</td>\n",
       "      <td>0.928400</td>\n",
       "    </tr>\n",
       "    <tr>\n",
       "      <td>1900</td>\n",
       "      <td>0.897600</td>\n",
       "    </tr>\n",
       "    <tr>\n",
       "      <td>1950</td>\n",
       "      <td>0.880400</td>\n",
       "    </tr>\n",
       "    <tr>\n",
       "      <td>2000</td>\n",
       "      <td>0.823100</td>\n",
       "    </tr>\n",
       "    <tr>\n",
       "      <td>2050</td>\n",
       "      <td>0.915900</td>\n",
       "    </tr>\n",
       "    <tr>\n",
       "      <td>2100</td>\n",
       "      <td>0.820600</td>\n",
       "    </tr>\n",
       "    <tr>\n",
       "      <td>2150</td>\n",
       "      <td>0.885700</td>\n",
       "    </tr>\n",
       "    <tr>\n",
       "      <td>2200</td>\n",
       "      <td>0.847700</td>\n",
       "    </tr>\n",
       "    <tr>\n",
       "      <td>2250</td>\n",
       "      <td>0.807000</td>\n",
       "    </tr>\n",
       "    <tr>\n",
       "      <td>2300</td>\n",
       "      <td>0.884600</td>\n",
       "    </tr>\n",
       "    <tr>\n",
       "      <td>2350</td>\n",
       "      <td>0.817600</td>\n",
       "    </tr>\n",
       "    <tr>\n",
       "      <td>2400</td>\n",
       "      <td>0.827500</td>\n",
       "    </tr>\n",
       "    <tr>\n",
       "      <td>2450</td>\n",
       "      <td>0.841400</td>\n",
       "    </tr>\n",
       "    <tr>\n",
       "      <td>2500</td>\n",
       "      <td>0.804900</td>\n",
       "    </tr>\n",
       "    <tr>\n",
       "      <td>2550</td>\n",
       "      <td>0.784800</td>\n",
       "    </tr>\n",
       "    <tr>\n",
       "      <td>2600</td>\n",
       "      <td>0.812900</td>\n",
       "    </tr>\n",
       "    <tr>\n",
       "      <td>2650</td>\n",
       "      <td>0.789800</td>\n",
       "    </tr>\n",
       "    <tr>\n",
       "      <td>2700</td>\n",
       "      <td>0.768400</td>\n",
       "    </tr>\n",
       "    <tr>\n",
       "      <td>2750</td>\n",
       "      <td>0.798900</td>\n",
       "    </tr>\n",
       "    <tr>\n",
       "      <td>2800</td>\n",
       "      <td>0.747200</td>\n",
       "    </tr>\n",
       "    <tr>\n",
       "      <td>2850</td>\n",
       "      <td>0.755700</td>\n",
       "    </tr>\n",
       "    <tr>\n",
       "      <td>2900</td>\n",
       "      <td>0.843200</td>\n",
       "    </tr>\n",
       "    <tr>\n",
       "      <td>2950</td>\n",
       "      <td>0.758000</td>\n",
       "    </tr>\n",
       "    <tr>\n",
       "      <td>3000</td>\n",
       "      <td>0.781200</td>\n",
       "    </tr>\n",
       "    <tr>\n",
       "      <td>3050</td>\n",
       "      <td>0.719300</td>\n",
       "    </tr>\n",
       "    <tr>\n",
       "      <td>3100</td>\n",
       "      <td>0.693700</td>\n",
       "    </tr>\n",
       "    <tr>\n",
       "      <td>3150</td>\n",
       "      <td>0.732200</td>\n",
       "    </tr>\n",
       "    <tr>\n",
       "      <td>3200</td>\n",
       "      <td>0.727200</td>\n",
       "    </tr>\n",
       "    <tr>\n",
       "      <td>3250</td>\n",
       "      <td>0.789000</td>\n",
       "    </tr>\n",
       "    <tr>\n",
       "      <td>3300</td>\n",
       "      <td>0.744500</td>\n",
       "    </tr>\n",
       "    <tr>\n",
       "      <td>3350</td>\n",
       "      <td>0.734500</td>\n",
       "    </tr>\n",
       "    <tr>\n",
       "      <td>3400</td>\n",
       "      <td>0.655800</td>\n",
       "    </tr>\n",
       "    <tr>\n",
       "      <td>3450</td>\n",
       "      <td>0.692400</td>\n",
       "    </tr>\n",
       "    <tr>\n",
       "      <td>3500</td>\n",
       "      <td>0.718900</td>\n",
       "    </tr>\n",
       "    <tr>\n",
       "      <td>3550</td>\n",
       "      <td>0.708000</td>\n",
       "    </tr>\n",
       "    <tr>\n",
       "      <td>3600</td>\n",
       "      <td>0.685700</td>\n",
       "    </tr>\n",
       "    <tr>\n",
       "      <td>3650</td>\n",
       "      <td>0.705500</td>\n",
       "    </tr>\n",
       "    <tr>\n",
       "      <td>3700</td>\n",
       "      <td>0.691600</td>\n",
       "    </tr>\n",
       "    <tr>\n",
       "      <td>3750</td>\n",
       "      <td>0.531600</td>\n",
       "    </tr>\n",
       "    <tr>\n",
       "      <td>3800</td>\n",
       "      <td>0.528100</td>\n",
       "    </tr>\n",
       "    <tr>\n",
       "      <td>3850</td>\n",
       "      <td>0.500500</td>\n",
       "    </tr>\n",
       "    <tr>\n",
       "      <td>3900</td>\n",
       "      <td>0.516300</td>\n",
       "    </tr>\n",
       "    <tr>\n",
       "      <td>3950</td>\n",
       "      <td>0.491900</td>\n",
       "    </tr>\n",
       "    <tr>\n",
       "      <td>4000</td>\n",
       "      <td>0.565100</td>\n",
       "    </tr>\n",
       "    <tr>\n",
       "      <td>4050</td>\n",
       "      <td>0.561400</td>\n",
       "    </tr>\n",
       "    <tr>\n",
       "      <td>4100</td>\n",
       "      <td>0.511200</td>\n",
       "    </tr>\n",
       "    <tr>\n",
       "      <td>4150</td>\n",
       "      <td>0.528100</td>\n",
       "    </tr>\n",
       "    <tr>\n",
       "      <td>4200</td>\n",
       "      <td>0.485400</td>\n",
       "    </tr>\n",
       "    <tr>\n",
       "      <td>4250</td>\n",
       "      <td>0.561300</td>\n",
       "    </tr>\n",
       "    <tr>\n",
       "      <td>4300</td>\n",
       "      <td>0.494300</td>\n",
       "    </tr>\n",
       "    <tr>\n",
       "      <td>4350</td>\n",
       "      <td>0.498400</td>\n",
       "    </tr>\n",
       "    <tr>\n",
       "      <td>4400</td>\n",
       "      <td>0.555900</td>\n",
       "    </tr>\n",
       "    <tr>\n",
       "      <td>4450</td>\n",
       "      <td>0.513100</td>\n",
       "    </tr>\n",
       "    <tr>\n",
       "      <td>4500</td>\n",
       "      <td>0.541300</td>\n",
       "    </tr>\n",
       "    <tr>\n",
       "      <td>4550</td>\n",
       "      <td>0.505700</td>\n",
       "    </tr>\n",
       "    <tr>\n",
       "      <td>4600</td>\n",
       "      <td>0.504300</td>\n",
       "    </tr>\n",
       "    <tr>\n",
       "      <td>4650</td>\n",
       "      <td>0.469200</td>\n",
       "    </tr>\n",
       "    <tr>\n",
       "      <td>4700</td>\n",
       "      <td>0.486900</td>\n",
       "    </tr>\n",
       "    <tr>\n",
       "      <td>4750</td>\n",
       "      <td>0.537700</td>\n",
       "    </tr>\n",
       "    <tr>\n",
       "      <td>4800</td>\n",
       "      <td>0.468200</td>\n",
       "    </tr>\n",
       "    <tr>\n",
       "      <td>4850</td>\n",
       "      <td>0.475900</td>\n",
       "    </tr>\n",
       "    <tr>\n",
       "      <td>4900</td>\n",
       "      <td>0.491700</td>\n",
       "    </tr>\n",
       "    <tr>\n",
       "      <td>4950</td>\n",
       "      <td>0.520900</td>\n",
       "    </tr>\n",
       "    <tr>\n",
       "      <td>5000</td>\n",
       "      <td>0.481200</td>\n",
       "    </tr>\n",
       "    <tr>\n",
       "      <td>5050</td>\n",
       "      <td>0.475900</td>\n",
       "    </tr>\n",
       "    <tr>\n",
       "      <td>5100</td>\n",
       "      <td>0.424300</td>\n",
       "    </tr>\n",
       "    <tr>\n",
       "      <td>5150</td>\n",
       "      <td>0.449500</td>\n",
       "    </tr>\n",
       "    <tr>\n",
       "      <td>5200</td>\n",
       "      <td>0.473400</td>\n",
       "    </tr>\n",
       "    <tr>\n",
       "      <td>5250</td>\n",
       "      <td>0.434100</td>\n",
       "    </tr>\n",
       "    <tr>\n",
       "      <td>5300</td>\n",
       "      <td>0.450200</td>\n",
       "    </tr>\n",
       "    <tr>\n",
       "      <td>5350</td>\n",
       "      <td>0.446400</td>\n",
       "    </tr>\n",
       "    <tr>\n",
       "      <td>5400</td>\n",
       "      <td>0.478600</td>\n",
       "    </tr>\n",
       "    <tr>\n",
       "      <td>5450</td>\n",
       "      <td>0.503300</td>\n",
       "    </tr>\n",
       "    <tr>\n",
       "      <td>5500</td>\n",
       "      <td>0.439000</td>\n",
       "    </tr>\n",
       "    <tr>\n",
       "      <td>5550</td>\n",
       "      <td>0.455800</td>\n",
       "    </tr>\n",
       "    <tr>\n",
       "      <td>5600</td>\n",
       "      <td>0.447600</td>\n",
       "    </tr>\n",
       "    <tr>\n",
       "      <td>5650</td>\n",
       "      <td>0.468200</td>\n",
       "    </tr>\n",
       "    <tr>\n",
       "      <td>5700</td>\n",
       "      <td>0.441500</td>\n",
       "    </tr>\n",
       "    <tr>\n",
       "      <td>5750</td>\n",
       "      <td>0.413200</td>\n",
       "    </tr>\n",
       "    <tr>\n",
       "      <td>5800</td>\n",
       "      <td>0.438000</td>\n",
       "    </tr>\n",
       "    <tr>\n",
       "      <td>5850</td>\n",
       "      <td>0.480300</td>\n",
       "    </tr>\n",
       "    <tr>\n",
       "      <td>5900</td>\n",
       "      <td>0.435800</td>\n",
       "    </tr>\n",
       "    <tr>\n",
       "      <td>5950</td>\n",
       "      <td>0.432000</td>\n",
       "    </tr>\n",
       "    <tr>\n",
       "      <td>6000</td>\n",
       "      <td>0.448500</td>\n",
       "    </tr>\n",
       "    <tr>\n",
       "      <td>6050</td>\n",
       "      <td>0.391600</td>\n",
       "    </tr>\n",
       "    <tr>\n",
       "      <td>6100</td>\n",
       "      <td>0.458600</td>\n",
       "    </tr>\n",
       "    <tr>\n",
       "      <td>6150</td>\n",
       "      <td>0.433800</td>\n",
       "    </tr>\n",
       "    <tr>\n",
       "      <td>6200</td>\n",
       "      <td>0.419800</td>\n",
       "    </tr>\n",
       "    <tr>\n",
       "      <td>6250</td>\n",
       "      <td>0.393400</td>\n",
       "    </tr>\n",
       "    <tr>\n",
       "      <td>6300</td>\n",
       "      <td>0.416500</td>\n",
       "    </tr>\n",
       "    <tr>\n",
       "      <td>6350</td>\n",
       "      <td>0.436200</td>\n",
       "    </tr>\n",
       "    <tr>\n",
       "      <td>6400</td>\n",
       "      <td>0.414100</td>\n",
       "    </tr>\n",
       "    <tr>\n",
       "      <td>6450</td>\n",
       "      <td>0.421600</td>\n",
       "    </tr>\n",
       "    <tr>\n",
       "      <td>6500</td>\n",
       "      <td>0.442000</td>\n",
       "    </tr>\n",
       "    <tr>\n",
       "      <td>6550</td>\n",
       "      <td>0.386500</td>\n",
       "    </tr>\n",
       "    <tr>\n",
       "      <td>6600</td>\n",
       "      <td>0.389100</td>\n",
       "    </tr>\n",
       "    <tr>\n",
       "      <td>6650</td>\n",
       "      <td>0.412800</td>\n",
       "    </tr>\n",
       "    <tr>\n",
       "      <td>6700</td>\n",
       "      <td>0.361900</td>\n",
       "    </tr>\n",
       "    <tr>\n",
       "      <td>6750</td>\n",
       "      <td>0.389600</td>\n",
       "    </tr>\n",
       "    <tr>\n",
       "      <td>6800</td>\n",
       "      <td>0.387700</td>\n",
       "    </tr>\n",
       "    <tr>\n",
       "      <td>6850</td>\n",
       "      <td>0.395400</td>\n",
       "    </tr>\n",
       "    <tr>\n",
       "      <td>6900</td>\n",
       "      <td>0.392100</td>\n",
       "    </tr>\n",
       "    <tr>\n",
       "      <td>6950</td>\n",
       "      <td>0.356000</td>\n",
       "    </tr>\n",
       "    <tr>\n",
       "      <td>7000</td>\n",
       "      <td>0.369900</td>\n",
       "    </tr>\n",
       "    <tr>\n",
       "      <td>7050</td>\n",
       "      <td>0.413500</td>\n",
       "    </tr>\n",
       "    <tr>\n",
       "      <td>7100</td>\n",
       "      <td>0.430800</td>\n",
       "    </tr>\n",
       "    <tr>\n",
       "      <td>7150</td>\n",
       "      <td>0.440900</td>\n",
       "    </tr>\n",
       "    <tr>\n",
       "      <td>7200</td>\n",
       "      <td>0.459500</td>\n",
       "    </tr>\n",
       "    <tr>\n",
       "      <td>7250</td>\n",
       "      <td>0.388600</td>\n",
       "    </tr>\n",
       "    <tr>\n",
       "      <td>7300</td>\n",
       "      <td>0.378300</td>\n",
       "    </tr>\n",
       "    <tr>\n",
       "      <td>7350</td>\n",
       "      <td>0.399500</td>\n",
       "    </tr>\n",
       "    <tr>\n",
       "      <td>7400</td>\n",
       "      <td>0.346300</td>\n",
       "    </tr>\n",
       "  </tbody>\n",
       "</table><p>"
      ],
      "text/plain": [
       "<IPython.core.display.HTML object>"
      ]
     },
     "metadata": {},
     "output_type": "display_data"
    },
    {
     "data": {
      "text/plain": [
       "TrainOutput(global_step=7400, training_loss=0.6773530411075901, metrics={'train_runtime': 8065.1395, 'train_samples_per_second': 14.679, 'train_steps_per_second': 0.918, 'total_flos': 7787700859281408.0, 'train_loss': 0.6773530411075901, 'epoch': 2.0})"
      ]
     },
     "execution_count": 32,
     "metadata": {},
     "output_type": "execute_result"
    }
   ],
   "source": [
    "trainer.train()"
   ]
  },
  {
   "cell_type": "markdown",
   "id": "ac4fb315",
   "metadata": {},
   "source": [
    "## Análisis 🧐🧐"
   ]
  },
  {
   "cell_type": "markdown",
   "id": "a93a03d9",
   "metadata": {},
   "source": [
    "El entrenamiento finalizó después de 2 épocas, con un total de 7.400 pasos realizados. El modelo alcanzó una pérdida de entrenamiento promedio de ~0.67, lo que indica que logró aprender patrones relevantes entre los tweets y sus etiquetas de sentimiento, aunque aún existe espacio para mejorar con más épocas o ajuste de hiperparámetros. \n",
    "\n",
    "El proceso tardó aproximadamente 8.000 segundos (poco más de 2 horas), procesando cerca de 14.7 muestras por segundo, lo cual es razonable dado el tamaño del dataset y el modelo multilingüe. \n",
    "\n",
    "El modelo ya está listo para ser evaluado en el conjunto de validación y comenzar a hacer predicciones reales sobre nuevos textos."
   ]
  },
  {
   "cell_type": "markdown",
   "id": "7d19df90",
   "metadata": {},
   "source": [
    "# Metricas "
   ]
  },
  {
   "cell_type": "markdown",
   "id": "092cb721",
   "metadata": {},
   "source": [
    "Después del entrenamiento es fundamental evaluar el desempeño del modelo en el conjunto de validación. Para ello, se calculan métricas globales como accuracy y F1 ponderado, que ofrecen una visión general de la calidad del clasificador. Además, se analizan métricas específicas por clase (precisión, recall y F1) y se construye la matriz de confusión, lo que permite identificar en qué categorías el modelo acierta más y dónde presenta confusiones. Estas métricas se acompañan de visualizaciones gráficas que facilitan la interpretación de los resultados y brindan un panorama más claro sobre el comportamiento del modelo en cada tipo de sentimiento."
   ]
  },
  {
   "cell_type": "code",
   "execution_count": 33,
   "id": "7b4a16db",
   "metadata": {},
   "outputs": [
    {
     "data": {
      "text/html": [],
      "text/plain": [
       "<IPython.core.display.HTML object>"
      ]
     },
     "metadata": {},
     "output_type": "display_data"
    },
    {
     "name": "stdout",
     "output_type": "stream",
     "text": [
      "📊 Resultados en validación:\n",
      "eval_loss: 0.4387\n",
      "eval_accuracy: 0.8455\n",
      "eval_f1: 0.8449\n",
      "eval_runtime: 111.2816\n",
      "eval_samples_per_second: 132.9870\n",
      "eval_steps_per_second: 8.3120\n",
      "epoch: 2.0000\n"
     ]
    }
   ],
   "source": [
    "# Evaluamos el modelo en el conjunto de validación\n",
    "eval_results = trainer.evaluate()\n",
    "\n",
    "print(\"📊 Resultados en validación:\")\n",
    "for k, v in eval_results.items():\n",
    "    print(f\"{k}: {v:.4f}\")\n"
   ]
  },
  {
   "cell_type": "markdown",
   "id": "24c098ea",
   "metadata": {},
   "source": [
    "El modelo alcanzó un accuracy de ~84.6% y un F1 ponderado de ~84.5%, lo que indica que clasifica correctamente la gran mayoría de los tweets y mantiene un buen equilibrio entre precisión y recall en todas las clases. La pérdida en validación (eval_loss = 0.44) es relativamente baja, lo que sugiere que el modelo logró aprender representaciones útiles sin caer en sobreajuste tras 2 épocas. Además, el proceso de evaluación fue eficiente: analizó más de 130 muestras por segundo en la GPU, confirmando que el pipeline es estable y escalable. En conjunto, estos resultados muestran un rendimiento sólido para una primera versión del clasificador multilingüe de sentimientos en Twitter."
   ]
  },
  {
   "cell_type": "code",
   "execution_count": 34,
   "id": "8997045c",
   "metadata": {},
   "outputs": [
    {
     "name": "stdout",
     "output_type": "stream",
     "text": [
      "              precision    recall  f1-score   support\n",
      "\n",
      "    Negative       0.86      0.90      0.88      4465\n",
      "     Neutral       0.84      0.81      0.83      3661\n",
      "    Positive       0.82      0.86      0.84      4126\n",
      "  Irrelevant       0.86      0.78      0.82      2547\n",
      "\n",
      "    accuracy                           0.85     14799\n",
      "   macro avg       0.85      0.84      0.84     14799\n",
      "weighted avg       0.85      0.85      0.84     14799\n",
      "\n"
     ]
    }
   ],
   "source": [
    "from sklearn.metrics import classification_report\n",
    "\n",
    "# Predicciones en el set de validación\n",
    "predictions = trainer.predict(datasets[\"validation\"])\n",
    "y_pred = predictions.predictions.argmax(-1)\n",
    "y_true = predictions.label_ids\n",
    "\n",
    "# Reporte detallado\n",
    "print(classification_report(y_true, y_pred, target_names=[\"Negative\", \"Neutral\", \"Positive\", \"Irrelevant\"]))\n"
   ]
  },
  {
   "cell_type": "code",
   "execution_count": 35,
   "id": "a2198e2b",
   "metadata": {},
   "outputs": [
    {
     "data": {
      "image/png": "[encoded data removed]",
      "text/plain": [
       "<Figure size 600x500 with 2 Axes>"
      ]
     },
     "metadata": {},
     "output_type": "display_data"
    }
   ],
   "source": [
    "import matplotlib.pyplot as plt\n",
    "import seaborn as sns\n",
    "from sklearn.metrics import confusion_matrix\n",
    "\n",
    "cm = confusion_matrix(y_true, y_pred)\n",
    "plt.figure(figsize=(6,5))\n",
    "sns.heatmap(cm, annot=True, fmt=\"d\", cmap=\"Blues\",\n",
    "            xticklabels=[\"Neg\", \"Neu\", \"Pos\", \"Irr\"],\n",
    "            yticklabels=[\"Neg\", \"Neu\", \"Pos\", \"Irr\"])\n",
    "plt.xlabel(\"Predicción\")\n",
    "plt.ylabel(\"Real\")\n",
    "plt.title(\"Matriz de Confusión\")\n",
    "plt.show()\n"
   ]
  },
  {
   "cell_type": "markdown",
   "id": "17c88290",
   "metadata": {},
   "source": [
    "### Datos"
   ]
  },
  {
   "cell_type": "markdown",
   "id": "c2bb72e9",
   "metadata": {},
   "source": [
    "* Exactitud global (accuracy): 85% → El modelo clasifica correctamente la mayoría de los tweets.\n",
    "\n",
    "* Negative (Precisión 0.86, Recall 0.90, F1=0.88): Es la clase más fuerte del modelo. Identifica muy bien los tweets negativos, con un equilibrio excelente entre precisión y recall.\n",
    "\n",
    "* Neutral (Precisión 0.84, Recall 0.81, F1=0.83): Buen desempeño, aunque a veces confunde tweets neutrales con otras clases (ligeramente menos recall).\n",
    "\n",
    "* Positive (Precisión 0.82, Recall 0.86, F1=0.84): También sólido, pero con una ligera tendencia a confundir algunos positivos como neutrales o irrelevantes.\n",
    "\n",
    "* Irrelevant (Precisión 0.86, Recall 0.78, F1=0.82): Aquí el recall es más bajo, o sea que el modelo se “pierde” algunos irrelevantes y los predice como neutrales o negativos.\n",
    "\n",
    "* En conjunto, el macro promedio (0.84) y el weighted promedio (0.84–0.85) muestran que el rendimiento está balanceado entre las clases, sin que una domine en exceso."
   ]
  },
  {
   "cell_type": "markdown",
   "id": "3ab3ce81",
   "metadata": {},
   "source": [
    "# Predicciones con Twees nuevos "
   ]
  },
  {
   "cell_type": "code",
   "execution_count": 54,
   "id": "1243d85c",
   "metadata": {},
   "outputs": [
    {
     "name": "stderr",
     "output_type": "stream",
     "text": [
      "Device set to use cuda:0\n",
      "C:\\Users\\yasmi\\AppData\\Local\\Temp\\ipykernel_18688\\907144285.py:43: FutureWarning: Styler.applymap has been deprecated. Use Styler.map instead.\n",
      "  df_preds[[\"text\", \"label\", \"score\"]].style.applymap(color_labels, subset=[\"label\"]).format({\"score\": \"{:.2f}\"})\n"
     ]
    },
    {
     "data": {
      "text/html": [
       "<style type=\"text/css\">\n",
       "#T_52d19_row0_col1, #T_52d19_row2_col1, #T_52d19_row4_col1 {\n",
       "  background-color: lightgreen;\n",
       "  color: black;\n",
       "}\n",
       "#T_52d19_row1_col1, #T_52d19_row3_col1 {\n",
       "  background-color: salmon;\n",
       "  color: black;\n",
       "}\n",
       "</style>\n",
       "<table id=\"T_52d19\">\n",
       "  <thead>\n",
       "    <tr>\n",
       "      <th class=\"blank level0\" >&nbsp;</th>\n",
       "      <th id=\"T_52d19_level0_col0\" class=\"col_heading level0 col0\" >text</th>\n",
       "      <th id=\"T_52d19_level0_col1\" class=\"col_heading level0 col1\" >label</th>\n",
       "      <th id=\"T_52d19_level0_col2\" class=\"col_heading level0 col2\" >score</th>\n",
       "    </tr>\n",
       "  </thead>\n",
       "  <tbody>\n",
       "    <tr>\n",
       "      <th id=\"T_52d19_level0_row0\" class=\"row_heading level0 row0\" >0</th>\n",
       "      <td id=\"T_52d19_row0_col0\" class=\"data row0 col0\" >I absolutely love this game, it's amazing!</td>\n",
       "      <td id=\"T_52d19_row0_col1\" class=\"data row0 col1\" >Positive</td>\n",
       "      <td id=\"T_52d19_row0_col2\" class=\"data row0 col2\" >0.98</td>\n",
       "    </tr>\n",
       "    <tr>\n",
       "      <th id=\"T_52d19_level0_row1\" class=\"row_heading level0 row1\" >1</th>\n",
       "      <td id=\"T_52d19_row1_col0\" class=\"data row1 col0\" >This movie was boring and a waste of time.</td>\n",
       "      <td id=\"T_52d19_row1_col1\" class=\"data row1 col1\" >Negative</td>\n",
       "      <td id=\"T_52d19_row1_col2\" class=\"data row1 col2\" >0.96</td>\n",
       "    </tr>\n",
       "    <tr>\n",
       "      <th id=\"T_52d19_level0_row2\" class=\"row_heading level0 row2\" >2</th>\n",
       "      <td id=\"T_52d19_row2_col0\" class=\"data row2 col0\" >The concert was okay, nothing special.</td>\n",
       "      <td id=\"T_52d19_row2_col1\" class=\"data row2 col1\" >Positive</td>\n",
       "      <td id=\"T_52d19_row2_col2\" class=\"data row2 col2\" >0.90</td>\n",
       "    </tr>\n",
       "    <tr>\n",
       "      <th id=\"T_52d19_level0_row3\" class=\"row_heading level0 row3\" >3</th>\n",
       "      <td id=\"T_52d19_row3_col0\" class=\"data row3 col0\" >I don't care about this product at all.</td>\n",
       "      <td id=\"T_52d19_row3_col1\" class=\"data row3 col1\" >Negative</td>\n",
       "      <td id=\"T_52d19_row3_col2\" class=\"data row3 col2\" >0.94</td>\n",
       "    </tr>\n",
       "    <tr>\n",
       "      <th id=\"T_52d19_level0_row4\" class=\"row_heading level0 row4\" >4</th>\n",
       "      <td id=\"T_52d19_row4_col0\" class=\"data row4 col0\" >El servicio al cliente fue excelente</td>\n",
       "      <td id=\"T_52d19_row4_col1\" class=\"data row4 col1\" >Positive</td>\n",
       "      <td id=\"T_52d19_row4_col2\" class=\"data row4 col2\" >0.82</td>\n",
       "    </tr>\n",
       "  </tbody>\n",
       "</table>\n"
      ],
      "text/plain": [
       "<pandas.io.formats.style.Styler at 0x2a9aa036020>"
      ]
     },
     "execution_count": 54,
     "metadata": {},
     "output_type": "execute_result"
    }
   ],
   "source": [
    "import pandas as pd\n",
    "from transformers import pipeline\n",
    "\n",
    "# Crear pipeline con tu modelo entrenado\n",
    "sentiment_pipeline = pipeline(\n",
    "    \"text-classification\",\n",
    "    model=model,\n",
    "    tokenizer=tokenizer,\n",
    "    top_k=1   # solo la mejor predicción\n",
    ")\n",
    "\n",
    "# Frases de prueba\n",
    "frases = [\n",
    "    \"I absolutely love this game, it's amazing!\",\n",
    "    \"This movie was boring and a waste of time.\",\n",
    "    \"The concert was okay, nothing special.\",\n",
    "    \"I don't care about this product at all.\",\n",
    "    \"El servicio al cliente fue excelente\",\n",
    "]\n",
    "\n",
    "# Obtener predicciones\n",
    "preds = sentiment_pipeline(frases)\n",
    "\n",
    "# Aplanar lista de listas y crear DataFrame\n",
    "flat_preds = [p[0] if isinstance(p, list) else p for p in preds]\n",
    "df_preds = pd.DataFrame(flat_preds)\n",
    "df_preds[\"text\"] = frases  # añadir la frase original\n",
    "\n",
    "# Función para colorear etiquetas estilo semáforo 🚦 con texto oscuro\n",
    "def color_labels(val):\n",
    "    if val == \"Positive\":\n",
    "        return \"background-color: lightgreen; color: black\"\n",
    "    elif val == \"Negative\":\n",
    "        return \"background-color: salmon; color: black\"\n",
    "    elif val == \"Neutral\":\n",
    "        return \"background-color: khaki; color: black\"\n",
    "    elif val == \"Irrelevant\":\n",
    "        return \"background-color: lightblue; color: black\"\n",
    "    return \"color: black\"\n",
    "\n",
    "\n",
    "# Mostrar tabla bonita con colores\n",
    "df_preds[[\"text\", \"label\", \"score\"]].style.applymap(color_labels, subset=[\"label\"]).format({\"score\": \"{:.2f}\"})\n"
   ]
  },
  {
   "cell_type": "code",
   "execution_count": null,
   "id": "b31a2a02",
   "metadata": {},
   "outputs": [],
   "source": []
  }
 ],
 "metadata": {
  "kernelspec": {
   "display_name": "torch_gpu",
   "language": "python",
   "name": "python3"
  },
  "language_info": {
   "codemirror_mode": {
    "name": "ipython",
    "version": 3
   },
   "file_extension": ".py",
   "mimetype": "text/x-python",
   "name": "python",
   "nbconvert_exporter": "python",
   "pygments_lexer": "ipython3",
   "version": "3.10.18"
  }
 },
 "nbformat": 4,
 "nbformat_minor": 5
}
