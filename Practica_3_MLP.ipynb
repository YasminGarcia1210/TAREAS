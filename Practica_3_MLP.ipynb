{
  "nbformat": 4,
  "nbformat_minor": 0,
  "metadata": {
    "colab": {
      "provenance": [],
      "gpuType": "T4",
      "include_colab_link": true
    },
    "kernelspec": {
      "name": "python3",
      "display_name": "Python 3"
    },
    "language_info": {
      "name": "python"
    },
    "accelerator": "GPU",
    "widgets": {
      "application/vnd.jupyter.widget-state+json": {
        "3a79bc72607e46958fb9f1978c94ebee": {
          "model_module": "@jupyter-widgets/controls",
          "model_name": "HBoxModel",
          "model_module_version": "1.5.0",
          "state": {
            "_dom_classes": [],
            "_model_module": "@jupyter-widgets/controls",
            "_model_module_version": "1.5.0",
            "_model_name": "HBoxModel",
            "_view_count": null,
            "_view_module": "@jupyter-widgets/controls",
            "_view_module_version": "1.5.0",
            "_view_name": "HBoxView",
            "box_style": "",
            "children": [
              "IPY_MODEL_0fb391decf574fce866ebce294e9c0e7",
              "IPY_MODEL_29333ef604a941dd89ade1d35d6fc0b6",
              "IPY_MODEL_ddc2461dc6534564bc30c23a3b0571eb"
            ],
            "layout": "IPY_MODEL_ec07882093984c36a3ffad49509385c6"
          }
        },
        "0fb391decf574fce866ebce294e9c0e7": {
          "model_module": "@jupyter-widgets/controls",
          "model_name": "HTMLModel",
          "model_module_version": "1.5.0",
          "state": {
            "_dom_classes": [],
            "_model_module": "@jupyter-widgets/controls",
            "_model_module_version": "1.5.0",
            "_model_name": "HTMLModel",
            "_view_count": null,
            "_view_module": "@jupyter-widgets/controls",
            "_view_module_version": "1.5.0",
            "_view_name": "HTMLView",
            "description": "",
            "description_tooltip": null,
            "layout": "IPY_MODEL_165fb9b00de0480bb17b84e4f1d187a6",
            "placeholder": "​",
            "style": "IPY_MODEL_d9368b1697114adb82ddea84160fc799",
            "value": "Map: 100%"
          }
        },
        "29333ef604a941dd89ade1d35d6fc0b6": {
          "model_module": "@jupyter-widgets/controls",
          "model_name": "FloatProgressModel",
          "model_module_version": "1.5.0",
          "state": {
            "_dom_classes": [],
            "_model_module": "@jupyter-widgets/controls",
            "_model_module_version": "1.5.0",
            "_model_name": "FloatProgressModel",
            "_view_count": null,
            "_view_module": "@jupyter-widgets/controls",
            "_view_module_version": "1.5.0",
            "_view_name": "ProgressView",
            "bar_style": "success",
            "description": "",
            "description_tooltip": null,
            "layout": "IPY_MODEL_b0c99b4bc64540bf8cd4753aca1a5577",
            "max": 1066,
            "min": 0,
            "orientation": "horizontal",
            "style": "IPY_MODEL_ba1446f25f844478acdf52dee4e4baaf",
            "value": 1066
          }
        },
        "ddc2461dc6534564bc30c23a3b0571eb": {
          "model_module": "@jupyter-widgets/controls",
          "model_name": "HTMLModel",
          "model_module_version": "1.5.0",
          "state": {
            "_dom_classes": [],
            "_model_module": "@jupyter-widgets/controls",
            "_model_module_version": "1.5.0",
            "_model_name": "HTMLModel",
            "_view_count": null,
            "_view_module": "@jupyter-widgets/controls",
            "_view_module_version": "1.5.0",
            "_view_name": "HTMLView",
            "description": "",
            "description_tooltip": null,
            "layout": "IPY_MODEL_de4f7708a506425a866ee96f9b95cec3",
            "placeholder": "​",
            "style": "IPY_MODEL_b98d5e7a268b42d8a3b7fd0e7393e1d8",
            "value": " 1066/1066 [00:00&lt;00:00, 8302.28 examples/s]"
          }
        },
        "ec07882093984c36a3ffad49509385c6": {
          "model_module": "@jupyter-widgets/base",
          "model_name": "LayoutModel",
          "model_module_version": "1.2.0",
          "state": {
            "_model_module": "@jupyter-widgets/base",
            "_model_module_version": "1.2.0",
            "_model_name": "LayoutModel",
            "_view_count": null,
            "_view_module": "@jupyter-widgets/base",
            "_view_module_version": "1.2.0",
            "_view_name": "LayoutView",
            "align_content": null,
            "align_items": null,
            "align_self": null,
            "border": null,
            "bottom": null,
            "display": null,
            "flex": null,
            "flex_flow": null,
            "grid_area": null,
            "grid_auto_columns": null,
            "grid_auto_flow": null,
            "grid_auto_rows": null,
            "grid_column": null,
            "grid_gap": null,
            "grid_row": null,
            "grid_template_areas": null,
            "grid_template_columns": null,
            "grid_template_rows": null,
            "height": null,
            "justify_content": null,
            "justify_items": null,
            "left": null,
            "margin": null,
            "max_height": null,
            "max_width": null,
            "min_height": null,
            "min_width": null,
            "object_fit": null,
            "object_position": null,
            "order": null,
            "overflow": null,
            "overflow_x": null,
            "overflow_y": null,
            "padding": null,
            "right": null,
            "top": null,
            "visibility": null,
            "width": null
          }
        },
        "165fb9b00de0480bb17b84e4f1d187a6": {
          "model_module": "@jupyter-widgets/base",
          "model_name": "LayoutModel",
          "model_module_version": "1.2.0",
          "state": {
            "_model_module": "@jupyter-widgets/base",
            "_model_module_version": "1.2.0",
            "_model_name": "LayoutModel",
            "_view_count": null,
            "_view_module": "@jupyter-widgets/base",
            "_view_module_version": "1.2.0",
            "_view_name": "LayoutView",
            "align_content": null,
            "align_items": null,
            "align_self": null,
            "border": null,
            "bottom": null,
            "display": null,
            "flex": null,
            "flex_flow": null,
            "grid_area": null,
            "grid_auto_columns": null,
            "grid_auto_flow": null,
            "grid_auto_rows": null,
            "grid_column": null,
            "grid_gap": null,
            "grid_row": null,
            "grid_template_areas": null,
            "grid_template_columns": null,
            "grid_template_rows": null,
            "height": null,
            "justify_content": null,
            "justify_items": null,
            "left": null,
            "margin": null,
            "max_height": null,
            "max_width": null,
            "min_height": null,
            "min_width": null,
            "object_fit": null,
            "object_position": null,
            "order": null,
            "overflow": null,
            "overflow_x": null,
            "overflow_y": null,
            "padding": null,
            "right": null,
            "top": null,
            "visibility": null,
            "width": null
          }
        },
        "d9368b1697114adb82ddea84160fc799": {
          "model_module": "@jupyter-widgets/controls",
          "model_name": "DescriptionStyleModel",
          "model_module_version": "1.5.0",
          "state": {
            "_model_module": "@jupyter-widgets/controls",
            "_model_module_version": "1.5.0",
            "_model_name": "DescriptionStyleModel",
            "_view_count": null,
            "_view_module": "@jupyter-widgets/base",
            "_view_module_version": "1.2.0",
            "_view_name": "StyleView",
            "description_width": ""
          }
        },
        "b0c99b4bc64540bf8cd4753aca1a5577": {
          "model_module": "@jupyter-widgets/base",
          "model_name": "LayoutModel",
          "model_module_version": "1.2.0",
          "state": {
            "_model_module": "@jupyter-widgets/base",
            "_model_module_version": "1.2.0",
            "_model_name": "LayoutModel",
            "_view_count": null,
            "_view_module": "@jupyter-widgets/base",
            "_view_module_version": "1.2.0",
            "_view_name": "LayoutView",
            "align_content": null,
            "align_items": null,
            "align_self": null,
            "border": null,
            "bottom": null,
            "display": null,
            "flex": null,
            "flex_flow": null,
            "grid_area": null,
            "grid_auto_columns": null,
            "grid_auto_flow": null,
            "grid_auto_rows": null,
            "grid_column": null,
            "grid_gap": null,
            "grid_row": null,
            "grid_template_areas": null,
            "grid_template_columns": null,
            "grid_template_rows": null,
            "height": null,
            "justify_content": null,
            "justify_items": null,
            "left": null,
            "margin": null,
            "max_height": null,
            "max_width": null,
            "min_height": null,
            "min_width": null,
            "object_fit": null,
            "object_position": null,
            "order": null,
            "overflow": null,
            "overflow_x": null,
            "overflow_y": null,
            "padding": null,
            "right": null,
            "top": null,
            "visibility": null,
            "width": null
          }
        },
        "ba1446f25f844478acdf52dee4e4baaf": {
          "model_module": "@jupyter-widgets/controls",
          "model_name": "ProgressStyleModel",
          "model_module_version": "1.5.0",
          "state": {
            "_model_module": "@jupyter-widgets/controls",
            "_model_module_version": "1.5.0",
            "_model_name": "ProgressStyleModel",
            "_view_count": null,
            "_view_module": "@jupyter-widgets/base",
            "_view_module_version": "1.2.0",
            "_view_name": "StyleView",
            "bar_color": null,
            "description_width": ""
          }
        },
        "de4f7708a506425a866ee96f9b95cec3": {
          "model_module": "@jupyter-widgets/base",
          "model_name": "LayoutModel",
          "model_module_version": "1.2.0",
          "state": {
            "_model_module": "@jupyter-widgets/base",
            "_model_module_version": "1.2.0",
            "_model_name": "LayoutModel",
            "_view_count": null,
            "_view_module": "@jupyter-widgets/base",
            "_view_module_version": "1.2.0",
            "_view_name": "LayoutView",
            "align_content": null,
            "align_items": null,
            "align_self": null,
            "border": null,
            "bottom": null,
            "display": null,
            "flex": null,
            "flex_flow": null,
            "grid_area": null,
            "grid_auto_columns": null,
            "grid_auto_flow": null,
            "grid_auto_rows": null,
            "grid_column": null,
            "grid_gap": null,
            "grid_row": null,
            "grid_template_areas": null,
            "grid_template_columns": null,
            "grid_template_rows": null,
            "height": null,
            "justify_content": null,
            "justify_items": null,
            "left": null,
            "margin": null,
            "max_height": null,
            "max_width": null,
            "min_height": null,
            "min_width": null,
            "object_fit": null,
            "object_position": null,
            "order": null,
            "overflow": null,
            "overflow_x": null,
            "overflow_y": null,
            "padding": null,
            "right": null,
            "top": null,
            "visibility": null,
            "width": null
          }
        },
        "b98d5e7a268b42d8a3b7fd0e7393e1d8": {
          "model_module": "@jupyter-widgets/controls",
          "model_name": "DescriptionStyleModel",
          "model_module_version": "1.5.0",
          "state": {
            "_model_module": "@jupyter-widgets/controls",
            "_model_module_version": "1.5.0",
            "_model_name": "DescriptionStyleModel",
            "_view_count": null,
            "_view_module": "@jupyter-widgets/base",
            "_view_module_version": "1.2.0",
            "_view_name": "StyleView",
            "description_width": ""
          }
        }
      }
    }
  },
  "cells": [
    {
      "cell_type": "markdown",
      "metadata": {
        "id": "view-in-github",
        "colab_type": "text"
      },
      "source": [
        "<a href=\"https://colab.research.google.com/github/YasminGarcia1210/TAREAS/blob/main/Practica_3_MLP.ipynb\" target=\"_parent\"><img src=\"https://colab.research.google.com/assets/colab-badge.svg\" alt=\"Open In Colab\"/></a>"
      ]
    },
    {
      "cell_type": "markdown",
      "source": [
        "###Integrantes: **Javier Ricardo Muñoz Castillo - Yasmin Johana Garcia**"
      ],
      "metadata": {
        "id": "CVsr5G_FHPis"
      }
    },
    {
      "cell_type": "markdown",
      "source": [
        "# Introducción y Objetivo\n",
        "\n",
        "Este notebook tiene como objetivo principal realizar clasificación de texto, comparando dos enfoques diferentes para resolver esta tarea.\n",
        "\n",
        "Se implementará y evaluará un método tradicional basado en la vectorización TF-IDF de los textos seguido de un modelo de red neuronal multicapa (MLP). En paralelo, se utilizará un modelo de Transformers pre-entrenado, específicamente DistilBERT, que será ajustado (fine-tuned) en el dataset de clasificación de texto seleccionado. Finalmente, se compararán los resultados de ambos modelos para determinar cuál ofrece un mejor rendimiento en el dataset dado."
      ],
      "metadata": {
        "id": "-lAvRc8Z-YWu"
      }
    },
    {
      "cell_type": "markdown",
      "source": [
        "En esta sección, preparamos el entorno de trabajo instalando las librerías necesarias y configurando parámetros iniciales para asegurar la reproducibilidad de los resultados.\n",
        "\n",
        "Primero, instalamos las librerías clave para este proyecto:\n",
        "- `datasets`: Para cargar y manejar fácilmente datasets comunes de procesamiento de lenguaje natural.\n",
        "- `transformers`: La biblioteca de Hugging Face que proporciona acceso a modelos pre-entrenados como BERT, GPT-2, y DistilBERT, junto con herramientas para tokenización y fine-tuning.\n",
        "- `accelerate`: Una biblioteca para simplificar el entrenamiento de modelos PyTorch en diferentes configuraciones de hardware (CPU, múltiples GPUs).\n",
        "- `scikit-learn`: Una biblioteca fundamental para aprendizaje automático en Python, utilizada aquí para el enfoque tradicional (TF-IDF y MLP) y para métricas de evaluación.\n",
        "- `evaluate`: Una biblioteca de Hugging Face para calcular métricas de evaluación de modelos de forma sencilla.\n",
        "python"
      ],
      "metadata": {
        "id": "N_2hSYBg-xOM"
      }
    },
    {
      "cell_type": "markdown",
      "source": [
        "A continuación, importamos las librerías necesarias para el resto del notebook y fijamos una semilla aleatoria. Fijar la semilla (`set_seed(42)`) es crucial para asegurar que los experimentos sean reproducibles, es decir, que obtengamos los mismos resultados cada vez que ejecutemos el código con la misma configuración.\n",
        "\n",
        "\n",
        "Finalmente, detectamos automáticamente si hay una GPU (CUDA) disponible para acelerar el entrenamiento de los modelos. La variable `DEVICE` almacenará \"cuda\" si se detecta una GPU, o \"cpu\" en caso contrario. El output de la celda mostrará el dispositivo detectado, como se ve a continuación."
      ],
      "metadata": {
        "id": "AiA4nwSI_VYC"
      }
    },
    {
      "cell_type": "code",
      "execution_count": null,
      "metadata": {
        "colab": {
          "base_uri": "https://localhost:8080/",
          "height": 35
        },
        "id": "MlFl7lDy17jU",
        "outputId": "44766337-e15b-4fa1-e5ec-f43139199632"
      },
      "outputs": [
        {
          "output_type": "execute_result",
          "data": {
            "text/plain": [
              "'cuda'"
            ],
            "application/vnd.google.colaboratory.intrinsic+json": {
              "type": "string"
            }
          },
          "metadata": {},
          "execution_count": 39
        }
      ],
      "source": [
        "# %% INSTALACIÓN\n",
        "!pip -q install -U datasets transformers accelerate scikit-learn evaluate\n",
        "\n",
        "# %% IMPORTS Y SEED\n",
        "import os, random, numpy as np, torch\n",
        "from dataclasses import dataclass\n",
        "from typing import Dict, Any\n",
        "import pandas as pd\n",
        "\n",
        "def set_seed(seed=42):\n",
        "    random.seed(seed)\n",
        "    np.random.seed(seed)\n",
        "    torch.manual_seed(seed)\n",
        "    torch.cuda.manual_seed_all(seed)\n",
        "\n",
        "set_seed(42)\n",
        "DEVICE = \"cuda\" if torch.cuda.is_available() else \"cpu\"\n",
        "DEVICE"
      ]
    },
    {
      "cell_type": "markdown",
      "source": [
        "En esta sección, cargamos el dataset de Hugging Face `rotten_tomatoes` utilizando la función `load_dataset`. Este dataset es comúnmente utilizado para la clasificación de sentimiento en reseñas de películas.\n",
        "\n",
        "El objeto `raw_ds` es un `DatasetDict` que contiene las diferentes particiones del dataset (típicamente 'train', 'validation', 'test'). Podemos inspeccionar su estructura imprimiéndolo.\n"
      ],
      "metadata": {
        "id": "-ylu_dus_SWy"
      }
    },
    {
      "cell_type": "code",
      "source": [
        "DATASET_NAME = \"rotten_tomatoes\"\n",
        "TEXT_COL_HINTS = [\"text\", \"sentence\", \"content\", \"review\", \"tweet\"]  # heurística\n",
        "LABEL_COL_NAME = \"label\"\n",
        "\n",
        "from datasets import load_dataset\n",
        "\n",
        "raw_ds = load_dataset(DATASET_NAME)\n",
        "raw_ds"
      ],
      "metadata": {
        "colab": {
          "base_uri": "https://localhost:8080/"
        },
        "id": "8Nsmz0Ks1_AK",
        "outputId": "efdf0703-89e4-43ba-9515-f5d3ae171e1b"
      },
      "execution_count": null,
      "outputs": [
        {
          "output_type": "execute_result",
          "data": {
            "text/plain": [
              "DatasetDict({\n",
              "    train: Dataset({\n",
              "        features: ['text', 'label'],\n",
              "        num_rows: 8530\n",
              "    })\n",
              "    validation: Dataset({\n",
              "        features: ['text', 'label'],\n",
              "        num_rows: 1066\n",
              "    })\n",
              "    test: Dataset({\n",
              "        features: ['text', 'label'],\n",
              "        num_rows: 1066\n",
              "    })\n",
              "})"
            ]
          },
          "metadata": {},
          "execution_count": 40
        }
      ]
    },
    {
      "cell_type": "markdown",
      "source": [
        "Procedemos a detectar automáticamente las columnas relevantes para la tarea de clasificación de texto. Identificamos la columna que contiene el texto (`text_col`) buscando nombres comunes (`TEXT_COL_HINTS`) o, como fallback, la primera columna de tipo string. La columna de etiqueta (`LABEL_COL_NAME`) se asume fija en 'label'.\n",
        "\n",
        "Además, determinamos el número de clases (`num_labels`) y creamos los mapeos entre IDs numéricos y nombres de etiquetas (`id2label`, `label2id`). Esto se hace verificando si la característica de la etiqueta tiene nombres definidos; de lo contrario, inferimos el número de clases a partir del valor máximo de etiqueta.\n"
      ],
      "metadata": {
        "id": "O4nw2pZpAtmc"
      }
    },
    {
      "cell_type": "code",
      "source": [
        "# Detectar automáticamente la columna de texto si es posible\n",
        "candidate_text_cols = [c for c in raw_ds[\"train\"].column_names if c in TEXT_COL_HINTS]\n",
        "text_col = candidate_text_cols[0] if len(candidate_text_cols) > 0 else None\n",
        "\n",
        "if text_col is None:\n",
        "    # Fallback: toma la primera columna de tipo string\n",
        "    for c in raw_ds[\"train\"].column_names:\n",
        "        if raw_ds[\"train\"][c] and isinstance(raw_ds[\"train\"][c][0], str):\n",
        "            text_col = c\n",
        "            break\n",
        "\n",
        "assert text_col is not None, f\"No se pudo detectar columna de texto en {DATASET_NAME}\"\n",
        "\n",
        "# Etiquetas\n",
        "features = raw_ds[\"train\"].features\n",
        "num_labels = None\n",
        "id2label, label2id = None, None\n",
        "\n",
        "if LABEL_COL_NAME in features and hasattr(features[LABEL_COL_NAME], \"names\"):\n",
        "    # Clasificación con etiquetas nombradas\n",
        "    names = features[LABEL_COL_NAME].names\n",
        "    num_labels = len(names)\n",
        "    id2label = {i: n for i, n in enumerate(names)}\n",
        "    label2id = {n: i for i, n in enumerate(names)}\n",
        "else:\n",
        "    # Si no hay nombres, inferimos num_labels por máximo + 1\n",
        "    max_label = max(raw_ds[\"train\"][LABEL_COL_NAME])\n",
        "    num_labels = int(max_label) + 1\n",
        "    id2label = {i: f\"CLASS_{i}\" for i in range(num_labels)}\n",
        "    label2id = {v: k for k, v in id2label.items()}\n",
        "\n",
        "print(f\"Dataset: {DATASET_NAME}\")\n",
        "print(f\"Texto: {text_col} | Etiqueta: {LABEL_COL_NAME} | num_labels: {num_labels}\")\n",
        "raw_ds[\"train\"][0]\n"
      ],
      "metadata": {
        "colab": {
          "base_uri": "https://localhost:8080/"
        },
        "id": "zrbCGBD52TUN",
        "outputId": "bed11cfa-d02e-44de-ede0-c05c28723ee5"
      },
      "execution_count": null,
      "outputs": [
        {
          "output_type": "stream",
          "name": "stdout",
          "text": [
            "Dataset: rotten_tomatoes\n",
            "Texto: text | Etiqueta: label | num_labels: 2\n"
          ]
        },
        {
          "output_type": "execute_result",
          "data": {
            "text/plain": [
              "{'text': 'the rock is destined to be the 21st century\\'s new \" conan \" and that he\\'s going to make a splash even greater than arnold schwarzenegger , jean-claud van damme or steven segal .',\n",
              " 'label': 1}"
            ]
          },
          "metadata": {},
          "execution_count": 41
        }
      ]
    },
    {
      "cell_type": "markdown",
      "source": [
        "El output muestra el nombre del dataset, las columnas identificadas para texto y etiqueta, el número de clases detectadas, y un ejemplo del primer elemento del set de entrenamiento, confirmando que las columnas se han detectado correctamente y que las etiquetas tienen el formato esperado."
      ],
      "metadata": {
        "id": "GBjIKbT_BCMq"
      }
    },
    {
      "cell_type": "markdown",
      "source": [
        "# Modelo Tradicional: TF-IDF + MLP\n",
        "\n",
        "En esta sección, implementamos un enfoque de clasificación de texto tradicional utilizando la vectorización TF-IDF para representar los documentos y un Perceptrón Multicapa (MLP) como modelo clasificador.\n",
        "\n",
        "Primero, preparamos los datos para el modelo tradicional. Separamos los textos y las etiquetas de los conjuntos de entrenamiento y prueba. Si el dataset original no tiene un split de \"test\", usamos el split de \"validation\" o creamos uno pequeño a partir del conjunto de entrenamiento.\n",
        "\n",
        "Luego, aplicamos `TfidfVectorizer` para transformar los textos en vectores numéricos. TF-IDF (Term Frequency-Inverse Document Frequency) asigna un peso a cada término en un documento que refleja cuán importante es el término en el documento en relación con el corpus completo. Configuramos `max_features` para limitar el tamaño del vocabulario y `ngram_range` para incluir unigramas y bigramas, capturando así algo de contexto secuencial.python\n"
      ],
      "metadata": {
        "id": "8YGunqtCBYec"
      }
    },
    {
      "cell_type": "code",
      "source": [
        "from sklearn.feature_extraction.text import TfidfVectorizer\n",
        "from sklearn.neural_network import MLPClassifier\n",
        "from sklearn.metrics import accuracy_score, f1_score, classification_report\n",
        "\n",
        "# Extraer textos y etiquetas\n",
        "train_texts = raw_ds[\"train\"][text_col]\n",
        "train_labels = raw_ds[\"train\"][LABEL_COL_NAME]\n",
        "\n",
        "# Muchos datasets ya traen split de test. Si no, usamos validation o hacemos split.\n",
        "if \"test\" in raw_ds:\n",
        "    test_texts = raw_ds[\"test\"][text_col]\n",
        "    test_labels = raw_ds[\"test\"][LABEL_COL_NAME]\n",
        "else:\n",
        "    # fallback: usar \"validation\" si existe\n",
        "    split_name = \"validation\" if \"validation\" in raw_ds else \"train\"\n",
        "    # pequeño split manual si no hay test/validation claro\n",
        "    split = raw_ds[split_name].train_test_split(test_size=0.2, seed=42)\n",
        "    train_texts = split[\"train\"][text_col]\n",
        "    train_labels = split[\"train\"][LABEL_COL_NAME]\n",
        "    test_texts  = split[\"test\"][text_col]\n",
        "    test_labels = split[\"test\"][LABEL_COL_NAME]\n",
        "\n",
        "# Vectorización TF-IDF (puedes ajustar max_features)\n",
        "vectorizer = TfidfVectorizer(\n",
        "    max_features=30000,\n",
        "    ngram_range=(1,2),\n",
        "    strip_accents=\"unicode\",\n",
        "    lowercase=True,\n",
        "    min_df=2\n",
        ")\n",
        "X_train = vectorizer.fit_transform(train_texts)\n",
        "X_test  = vectorizer.transform(test_texts)\n",
        "\n",
        "mlp = MLPClassifier(\n",
        "    hidden_layer_sizes=(512,),\n",
        "    activation=\"relu\",\n",
        "    solver=\"adam\",\n",
        "    alpha=1e-4,\n",
        "    batch_size=128,\n",
        "    learning_rate_init=1e-3,\n",
        "    max_iter=10,        # sube a 20-30 si quieres más calidad\n",
        "    random_state=42,\n",
        "    early_stopping=True,\n",
        "    n_iter_no_change=3,\n",
        "    verbose=False\n",
        ")\n",
        "mlp.fit(X_train, train_labels)\n",
        "pred_mlp = mlp.predict(X_test)\n",
        "\n",
        "acc_mlp = accuracy_score(test_labels, pred_mlp)\n",
        "f1m_mlp = f1_score(test_labels, pred_mlp, average=\"macro\")\n",
        "\n",
        "print(f\"[MLP] Accuracy: {acc_mlp:.4f} | F1-macro: {f1m_mlp:.4f}\")\n",
        "print(\"\\nReporte por clase (MLP):\\n\", classification_report(test_labels, pred_mlp, digits=4))\n"
      ],
      "metadata": {
        "colab": {
          "base_uri": "https://localhost:8080/"
        },
        "id": "lVMeopor2Ts4",
        "outputId": "fcaba822-eaa9-4c0b-8d78-38f51c2b1c2d"
      },
      "execution_count": null,
      "outputs": [
        {
          "output_type": "stream",
          "name": "stdout",
          "text": [
            "[MLP] Accuracy: 0.7899 | F1-macro: 0.7898\n",
            "\n",
            "Reporte por clase (MLP):\n",
            "               precision    recall  f1-score   support\n",
            "\n",
            "           0     0.7977    0.7767    0.7871       533\n",
            "           1     0.7824    0.8030    0.7926       533\n",
            "\n",
            "    accuracy                         0.7899      1066\n",
            "   macro avg     0.7901    0.7899    0.7898      1066\n",
            "weighted avg     0.7901    0.7899    0.7898      1066\n",
            "\n"
          ]
        }
      ]
    },
    {
      "cell_type": "markdown",
      "source": [
        "Después de vectorizar los datos, definimos y entrenamos un `MLPClassifier`. Un MLP es una red neuronal feedforward simple con una o más capas ocultas. Configuramos una capa oculta con 512 neuronas, usamos la función de activación ReLU, el optimizador Adam, y un número limitado de épocas (`max_iter=10`) con `early_stopping` para prevenir sobreajuste.\n",
        "\n",
        "Una vez entrenado el modelo, realizamos predicciones sobre el conjunto de prueba (`X_test`) y evaluamos su rendimiento utilizando `accuracy_score` y `f1_score` con promedio \"macro\". También generamos un `classification_report` para ver métricas por clase (precisión, recall, f1-score).\n",
        "\n",
        "El output muestra la Accuracy y el F1-macro general del modelo MLP, seguido de un reporte detallado por cada clase. Estos resultados nos dan una primera indicación de qué tan bien se desempeña el modelo tradicional en la tarea de clasificación de texto.\n",
        "Accuracy (0.7899): El modelo clasificó correctamente aproximadamente el 79% de las reseñas en el conjunto de prueba.\n",
        "F1-macro (0.7898): El F1-macro, que es un promedio del F1-score para cada clase (considerando tanto precisión como recall), también es de aproximadamente 0.79. Esto indica un rendimiento equilibrado entre las dos clases ('negativa' y 'positiva').\n",
        "Reporte por clase:\n",
        "Para la clase 0 (negativa): La precisión es 0.7977 (de todas las reseñas predichas como negativas, casi el 80% eran realmente negativas) y el recall es 0.7767 (de todas las reseñas realmente negativas, casi el 78% fueron identificadas por el modelo). El F1-score es 0.7871.\n",
        "Para la clase 1 (positiva): La precisión es 0.7824 (de todas las reseñas predichas como positivas, aproximadamente el 78% eran realmente positivas) y el recall es 0.8030 (de todas las reseñas realmente positivas, aproximadamente el 80% fueron identificadas por el modelo). El F1-score es 0.7926.\n",
        "Conclusión del modelo MLP:\n",
        "\n",
        "El modelo MLP con TF-IDF muestra un rendimiento razonable para la clasificación de sentimientos en este dataset, con una precisión y recall similares para ambas clases. Los valores de Accuracy y F1-macro alrededor del 79% sugieren que el modelo es capaz de realizar la tarea, aunque hay margen de mejora.\n",
        "\n",
        "Más adelante en el notebook, compararás estos resultados con el modelo basado en Transformers para ver cuál enfoque es más efectivo."
      ],
      "metadata": {
        "id": "IsZkNIq3BuoZ"
      }
    },
    {
      "cell_type": "markdown",
      "source": [
        "En esta sección, implementamos un enfoque de clasificación de texto utilizando un modelo de Transformers pre-entrenado de Hugging Face, específicamente DistilBERT. Los modelos Transformer han demostrado ser muy efectivos en una amplia gama de tareas de PLN debido a su capacidad para capturar relaciones contextuales complejas en el texto. Ajustaremos (fine-tune) DistilBERT en nuestro dataset para adaptarlo a la tarea de clasificación de texto.\n",
        "\n",
        "Primero, cargamos el tokenizador y el modelo pre-entrenado. El tokenizador (`AutoTokenizer`) convierte el texto crudo en IDs numéricos que el modelo puede entender, mientras que `AutoModelForSequenceClassification` carga la arquitectura del modelo Transformer junto con una capa adicional para la clasificación de secuencias. Especificamos el punto de control (`model_ckpt`, aquí \"distilbert-base-uncased\") para cargar los pesos pre-entrenados.\n"
      ],
      "metadata": {
        "id": "wosXl6CdDO3c"
      }
    },
    {
      "cell_type": "code",
      "source": [
        "from transformers import AutoTokenizer, DataCollatorWithPadding, AutoModelForSequenceClassification\n",
        "from transformers import TrainingArguments, Trainer\n",
        "import evaluate\n",
        "\n",
        "model_ckpt = \"distilbert-base-uncased\"   # puedes cambiar a 'bert-base-uncased', 'roberta-base', etc.\n",
        "tokenizer = AutoTokenizer.from_pretrained(model_ckpt, use_fast=True)\n",
        "\n",
        "def tokenize_fn(batch):\n",
        "    return tokenizer(batch[text_col], truncation=True)\n",
        "\n",
        "tokenized = raw_ds.map(tokenize_fn, batched=True, remove_columns=[c for c in raw_ds[\"train\"].column_names if c not in [text_col, LABEL_COL_NAME]])\n",
        "data_collator = DataCollatorWithPadding(tokenizer=tokenizer)\n",
        "\n",
        "# Preparar splits\n",
        "train_ds = tokenized[\"train\"]\n",
        "test_ds  = tokenized[\"test\"] if \"test\" in tokenized else tokenized[\"validation\"] if \"validation\" in tokenized else tokenized[\"train\"].train_test_split(0.2, seed=42)[\"test\"]\n",
        "\n",
        "# Cargar modelo\n",
        "model = AutoModelForSequenceClassification.from_pretrained(\n",
        "    model_ckpt,\n",
        "    num_labels=num_labels,\n",
        "    id2label=id2label,\n",
        "    label2id=label2id\n",
        ")\n",
        "\n",
        "metric_acc = evaluate.load(\"accuracy\")\n",
        "metric_f1  = evaluate.load(\"f1\")\n",
        "\n",
        "def compute_metrics(eval_pred):\n",
        "    logits, labels = eval_pred\n",
        "    preds = np.argmax(logits, axis=-1)\n",
        "    acc = metric_acc.compute(predictions=preds, references=labels)[\"accuracy\"]\n",
        "    f1m = metric_f1.compute(predictions=preds, references=labels, average=\"macro\")[\"f1\"]\n",
        "    return {\"accuracy\": acc, \"f1_macro\": f1m}\n",
        "\n",
        "fp16 = (DEVICE == \"cuda\")\n",
        "\n",
        "args = TrainingArguments(\n",
        "    output_dir=\"outputs\",\n",
        "    eval_strategy=\"epoch\", # Changed evaluation_strategy to eval_strategy\n",
        "    save_strategy=\"no\",\n",
        "    logging_steps=50,\n",
        "    learning_rate=2e-5,\n",
        "    per_device_train_batch_size=16,\n",
        "    per_device_eval_batch_size=32,\n",
        "    num_train_epochs=2,   # sube a 3-5 si tienes tiempo\n",
        "    weight_decay=0.01,\n",
        "    load_best_model_at_end=False,\n",
        "    fp16=fp16,\n",
        "    report_to=\"none\"\n",
        ")\n",
        "\n",
        "trainer = Trainer(\n",
        "    model=model,\n",
        "    args=args,\n",
        "    train_dataset=train_ds,\n",
        "    eval_dataset=test_ds,\n",
        "    tokenizer=tokenizer,\n",
        "    data_collator=data_collator,\n",
        "    compute_metrics=compute_metrics\n",
        ")\n",
        "\n",
        "train_result = trainer.train()\n",
        "eval_result  = trainer.evaluate()\n",
        "eval_result"
      ],
      "metadata": {
        "colab": {
          "base_uri": "https://localhost:8080/",
          "height": 407,
          "referenced_widgets": [
            "3a79bc72607e46958fb9f1978c94ebee",
            "0fb391decf574fce866ebce294e9c0e7",
            "29333ef604a941dd89ade1d35d6fc0b6",
            "ddc2461dc6534564bc30c23a3b0571eb",
            "ec07882093984c36a3ffad49509385c6",
            "165fb9b00de0480bb17b84e4f1d187a6",
            "d9368b1697114adb82ddea84160fc799",
            "b0c99b4bc64540bf8cd4753aca1a5577",
            "ba1446f25f844478acdf52dee4e4baaf",
            "de4f7708a506425a866ee96f9b95cec3",
            "b98d5e7a268b42d8a3b7fd0e7393e1d8"
          ]
        },
        "id": "BFLrVcEz2XZ6",
        "outputId": "c0d7fccf-b331-48f7-bfce-702cee2f5515"
      },
      "execution_count": null,
      "outputs": [
        {
          "output_type": "display_data",
          "data": {
            "text/plain": [
              "Map:   0%|          | 0/1066 [00:00<?, ? examples/s]"
            ],
            "application/vnd.jupyter.widget-view+json": {
              "version_major": 2,
              "version_minor": 0,
              "model_id": "3a79bc72607e46958fb9f1978c94ebee"
            }
          },
          "metadata": {}
        },
        {
          "output_type": "stream",
          "name": "stderr",
          "text": [
            "Some weights of DistilBertForSequenceClassification were not initialized from the model checkpoint at distilbert-base-uncased and are newly initialized: ['classifier.bias', 'classifier.weight', 'pre_classifier.bias', 'pre_classifier.weight']\n",
            "You should probably TRAIN this model on a down-stream task to be able to use it for predictions and inference.\n",
            "/tmp/ipython-input-1464984504.py:53: FutureWarning: `tokenizer` is deprecated and will be removed in version 5.0.0 for `Trainer.__init__`. Use `processing_class` instead.\n",
            "  trainer = Trainer(\n"
          ]
        },
        {
          "output_type": "display_data",
          "data": {
            "text/plain": [
              "<IPython.core.display.HTML object>"
            ],
            "text/html": [
              "\n",
              "    <div>\n",
              "      \n",
              "      <progress value='1068' max='1068' style='width:300px; height:20px; vertical-align: middle;'></progress>\n",
              "      [1068/1068 00:45, Epoch 2/2]\n",
              "    </div>\n",
              "    <table border=\"1\" class=\"dataframe\">\n",
              "  <thead>\n",
              " <tr style=\"text-align: left;\">\n",
              "      <th>Epoch</th>\n",
              "      <th>Training Loss</th>\n",
              "      <th>Validation Loss</th>\n",
              "      <th>Accuracy</th>\n",
              "      <th>F1 Macro</th>\n",
              "    </tr>\n",
              "  </thead>\n",
              "  <tbody>\n",
              "    <tr>\n",
              "      <td>1</td>\n",
              "      <td>0.356500</td>\n",
              "      <td>0.398387</td>\n",
              "      <td>0.828330</td>\n",
              "      <td>0.827333</td>\n",
              "    </tr>\n",
              "    <tr>\n",
              "      <td>2</td>\n",
              "      <td>0.243800</td>\n",
              "      <td>0.420679</td>\n",
              "      <td>0.835835</td>\n",
              "      <td>0.835802</td>\n",
              "    </tr>\n",
              "  </tbody>\n",
              "</table><p>"
            ]
          },
          "metadata": {}
        },
        {
          "output_type": "display_data",
          "data": {
            "text/plain": [
              "<IPython.core.display.HTML object>"
            ],
            "text/html": [
              "\n",
              "    <div>\n",
              "      \n",
              "      <progress value='34' max='34' style='width:300px; height:20px; vertical-align: middle;'></progress>\n",
              "      [34/34 00:00]\n",
              "    </div>\n",
              "    "
            ]
          },
          "metadata": {}
        },
        {
          "output_type": "execute_result",
          "data": {
            "text/plain": [
              "{'eval_loss': 0.4206790328025818,\n",
              " 'eval_accuracy': 0.8358348968105066,\n",
              " 'eval_f1_macro': 0.8358023854643524,\n",
              " 'eval_runtime': 0.4729,\n",
              " 'eval_samples_per_second': 2254.082,\n",
              " 'eval_steps_per_second': 71.894,\n",
              " 'epoch': 2.0}"
            ]
          },
          "metadata": {},
          "execution_count": 43
        }
      ]
    },
    {
      "cell_type": "markdown",
      "source": [
        "\n",
        "Una vez que hemos entrenado y evaluado ambos modelos, el tradicional (MLP con TF-IDF) y el basado en Transformers (DistilBERT), procedemos a comparar su rendimiento para determinar cuál es superior en la tarea de clasificación de texto para este dataset.\n",
        "\n",
        "La comparación se basa principalmente en las métricas de evaluación obtenidas en el conjunto de prueba: **Accuracy** y **F1-macro**. La Accuracy mide la proporción de predicciones correctas en general, mientras que el F1-macro es el promedio no ponderado del F1-score por cada clase, siendo una métrica más robusta en casos donde las clases podrían estar desbalanceadas (aunque en este dataset particular, no es el caso).\n",
        "\n",
        "Para facilitar la comparación visual, consolidamos los resultados de ambos modelos en un DataFrame de pandas llamado `resumen`"
      ],
      "metadata": {
        "id": "GehqsMMTEZQb"
      }
    },
    {
      "cell_type": "code",
      "source": [
        "acc_trf = eval_result.get(\"eval_accuracy\", None)\n",
        "f1m_trf = eval_result.get(\"eval_f1_macro\", None)\n",
        "\n",
        "resumen = pd.DataFrame([\n",
        "    {\"Modelo\": \"MLP (TF-IDF)\", \"Accuracy\": acc_mlp, \"F1-macro\": f1m_mlp},\n",
        "    {\"Modelo\": \"DistilBERT\",   \"Accuracy\": acc_trf, \"F1-macro\": f1m_trf},\n",
        "])\n",
        "resumen\n"
      ],
      "metadata": {
        "colab": {
          "base_uri": "https://localhost:8080/",
          "height": 125
        },
        "id": "KOqRcr122cQF",
        "outputId": "5799dbb2-f3d2-4d43-bbda-a383175b6d7a"
      },
      "execution_count": null,
      "outputs": [
        {
          "output_type": "execute_result",
          "data": {
            "text/plain": [
              "         Modelo  Accuracy  F1-macro\n",
              "0  MLP (TF-IDF)  0.789869  0.789832\n",
              "1    DistilBERT  0.835835  0.835802"
            ],
            "text/html": [
              "\n",
              "  <div id=\"df-36f2c347-a6cc-4f10-8b8f-600286b5fd0e\" class=\"colab-df-container\">\n",
              "    <div>\n",
              "<style scoped>\n",
              "    .dataframe tbody tr th:only-of-type {\n",
              "        vertical-align: middle;\n",
              "    }\n",
              "\n",
              "    .dataframe tbody tr th {\n",
              "        vertical-align: top;\n",
              "    }\n",
              "\n",
              "    .dataframe thead th {\n",
              "        text-align: right;\n",
              "    }\n",
              "</style>\n",
              "<table border=\"1\" class=\"dataframe\">\n",
              "  <thead>\n",
              "    <tr style=\"text-align: right;\">\n",
              "      <th></th>\n",
              "      <th>Modelo</th>\n",
              "      <th>Accuracy</th>\n",
              "      <th>F1-macro</th>\n",
              "    </tr>\n",
              "  </thead>\n",
              "  <tbody>\n",
              "    <tr>\n",
              "      <th>0</th>\n",
              "      <td>MLP (TF-IDF)</td>\n",
              "      <td>0.789869</td>\n",
              "      <td>0.789832</td>\n",
              "    </tr>\n",
              "    <tr>\n",
              "      <th>1</th>\n",
              "      <td>DistilBERT</td>\n",
              "      <td>0.835835</td>\n",
              "      <td>0.835802</td>\n",
              "    </tr>\n",
              "  </tbody>\n",
              "</table>\n",
              "</div>\n",
              "    <div class=\"colab-df-buttons\">\n",
              "\n",
              "  <div class=\"colab-df-container\">\n",
              "    <button class=\"colab-df-convert\" onclick=\"convertToInteractive('df-36f2c347-a6cc-4f10-8b8f-600286b5fd0e')\"\n",
              "            title=\"Convert this dataframe to an interactive table.\"\n",
              "            style=\"display:none;\">\n",
              "\n",
              "  <svg xmlns=\"http://www.w3.org/2000/svg\" height=\"24px\" viewBox=\"0 -960 960 960\">\n",
              "    <path d=\"M120-120v-720h720v720H120Zm60-500h600v-160H180v160Zm220 220h160v-160H400v160Zm0 220h160v-160H400v160ZM180-400h160v-160H180v160Zm440 0h160v-160H620v160ZM180-180h160v-160H180v160Zm440 0h160v-160H620v160Z\"/>\n",
              "  </svg>\n",
              "    </button>\n",
              "\n",
              "  <style>\n",
              "    .colab-df-container {\n",
              "      display:flex;\n",
              "      gap: 12px;\n",
              "    }\n",
              "\n",
              "    .colab-df-convert {\n",
              "      background-color: #E8F0FE;\n",
              "      border: none;\n",
              "      border-radius: 50%;\n",
              "      cursor: pointer;\n",
              "      display: none;\n",
              "      fill: #1967D2;\n",
              "      height: 32px;\n",
              "      padding: 0 0 0 0;\n",
              "      width: 32px;\n",
              "    }\n",
              "\n",
              "    .colab-df-convert:hover {\n",
              "      background-color: #E2EBFA;\n",
              "      box-shadow: 0px 1px 2px rgba(60, 64, 67, 0.3), 0px 1px 3px 1px rgba(60, 64, 67, 0.15);\n",
              "      fill: #174EA6;\n",
              "    }\n",
              "\n",
              "    .colab-df-buttons div {\n",
              "      margin-bottom: 4px;\n",
              "    }\n",
              "\n",
              "    [theme=dark] .colab-df-convert {\n",
              "      background-color: #3B4455;\n",
              "      fill: #D2E3FC;\n",
              "    }\n",
              "\n",
              "    [theme=dark] .colab-df-convert:hover {\n",
              "      background-color: #434B5C;\n",
              "      box-shadow: 0px 1px 3px 1px rgba(0, 0, 0, 0.15);\n",
              "      filter: drop-shadow(0px 1px 2px rgba(0, 0, 0, 0.3));\n",
              "      fill: #FFFFFF;\n",
              "    }\n",
              "  </style>\n",
              "\n",
              "    <script>\n",
              "      const buttonEl =\n",
              "        document.querySelector('#df-36f2c347-a6cc-4f10-8b8f-600286b5fd0e button.colab-df-convert');\n",
              "      buttonEl.style.display =\n",
              "        google.colab.kernel.accessAllowed ? 'block' : 'none';\n",
              "\n",
              "      async function convertToInteractive(key) {\n",
              "        const element = document.querySelector('#df-36f2c347-a6cc-4f10-8b8f-600286b5fd0e');\n",
              "        const dataTable =\n",
              "          await google.colab.kernel.invokeFunction('convertToInteractive',\n",
              "                                                    [key], {});\n",
              "        if (!dataTable) return;\n",
              "\n",
              "        const docLinkHtml = 'Like what you see? Visit the ' +\n",
              "          '<a target=\"_blank\" href=https://colab.research.google.com/notebooks/data_table.ipynb>data table notebook</a>'\n",
              "          + ' to learn more about interactive tables.';\n",
              "        element.innerHTML = '';\n",
              "        dataTable['output_type'] = 'display_data';\n",
              "        await google.colab.output.renderOutput(dataTable, element);\n",
              "        const docLink = document.createElement('div');\n",
              "        docLink.innerHTML = docLinkHtml;\n",
              "        element.appendChild(docLink);\n",
              "      }\n",
              "    </script>\n",
              "  </div>\n",
              "\n",
              "\n",
              "    <div id=\"df-49463aa2-b652-4dab-a244-9fac1f70773b\">\n",
              "      <button class=\"colab-df-quickchart\" onclick=\"quickchart('df-49463aa2-b652-4dab-a244-9fac1f70773b')\"\n",
              "                title=\"Suggest charts\"\n",
              "                style=\"display:none;\">\n",
              "\n",
              "<svg xmlns=\"http://www.w3.org/2000/svg\" height=\"24px\"viewBox=\"0 0 24 24\"\n",
              "     width=\"24px\">\n",
              "    <g>\n",
              "        <path d=\"M19 3H5c-1.1 0-2 .9-2 2v14c0 1.1.9 2 2 2h14c1.1 0 2-.9 2-2V5c0-1.1-.9-2-2-2zM9 17H7v-7h2v7zm4 0h-2V7h2v10zm4 0h-2v-4h2v4z\"/>\n",
              "    </g>\n",
              "</svg>\n",
              "      </button>\n",
              "\n",
              "<style>\n",
              "  .colab-df-quickchart {\n",
              "      --bg-color: #E8F0FE;\n",
              "      --fill-color: #1967D2;\n",
              "      --hover-bg-color: #E2EBFA;\n",
              "      --hover-fill-color: #174EA6;\n",
              "      --disabled-fill-color: #AAA;\n",
              "      --disabled-bg-color: #DDD;\n",
              "  }\n",
              "\n",
              "  [theme=dark] .colab-df-quickchart {\n",
              "      --bg-color: #3B4455;\n",
              "      --fill-color: #D2E3FC;\n",
              "      --hover-bg-color: #434B5C;\n",
              "      --hover-fill-color: #FFFFFF;\n",
              "      --disabled-bg-color: #3B4455;\n",
              "      --disabled-fill-color: #666;\n",
              "  }\n",
              "\n",
              "  .colab-df-quickchart {\n",
              "    background-color: var(--bg-color);\n",
              "    border: none;\n",
              "    border-radius: 50%;\n",
              "    cursor: pointer;\n",
              "    display: none;\n",
              "    fill: var(--fill-color);\n",
              "    height: 32px;\n",
              "    padding: 0;\n",
              "    width: 32px;\n",
              "  }\n",
              "\n",
              "  .colab-df-quickchart:hover {\n",
              "    background-color: var(--hover-bg-color);\n",
              "    box-shadow: 0 1px 2px rgba(60, 64, 67, 0.3), 0 1px 3px 1px rgba(60, 64, 67, 0.15);\n",
              "    fill: var(--button-hover-fill-color);\n",
              "  }\n",
              "\n",
              "  .colab-df-quickchart-complete:disabled,\n",
              "  .colab-df-quickchart-complete:disabled:hover {\n",
              "    background-color: var(--disabled-bg-color);\n",
              "    fill: var(--disabled-fill-color);\n",
              "    box-shadow: none;\n",
              "  }\n",
              "\n",
              "  .colab-df-spinner {\n",
              "    border: 2px solid var(--fill-color);\n",
              "    border-color: transparent;\n",
              "    border-bottom-color: var(--fill-color);\n",
              "    animation:\n",
              "      spin 1s steps(1) infinite;\n",
              "  }\n",
              "\n",
              "  @keyframes spin {\n",
              "    0% {\n",
              "      border-color: transparent;\n",
              "      border-bottom-color: var(--fill-color);\n",
              "      border-left-color: var(--fill-color);\n",
              "    }\n",
              "    20% {\n",
              "      border-color: transparent;\n",
              "      border-left-color: var(--fill-color);\n",
              "      border-top-color: var(--fill-color);\n",
              "    }\n",
              "    30% {\n",
              "      border-color: transparent;\n",
              "      border-left-color: var(--fill-color);\n",
              "      border-top-color: var(--fill-color);\n",
              "      border-right-color: var(--fill-color);\n",
              "    }\n",
              "    40% {\n",
              "      border-color: transparent;\n",
              "      border-right-color: var(--fill-color);\n",
              "      border-top-color: var(--fill-color);\n",
              "    }\n",
              "    60% {\n",
              "      border-color: transparent;\n",
              "      border-right-color: var(--fill-color);\n",
              "    }\n",
              "    80% {\n",
              "      border-color: transparent;\n",
              "      border-right-color: var(--fill-color);\n",
              "      border-bottom-color: var(--fill-color);\n",
              "    }\n",
              "    90% {\n",
              "      border-color: transparent;\n",
              "      border-bottom-color: var(--fill-color);\n",
              "    }\n",
              "  }\n",
              "</style>\n",
              "\n",
              "      <script>\n",
              "        async function quickchart(key) {\n",
              "          const quickchartButtonEl =\n",
              "            document.querySelector('#' + key + ' button');\n",
              "          quickchartButtonEl.disabled = true;  // To prevent multiple clicks.\n",
              "          quickchartButtonEl.classList.add('colab-df-spinner');\n",
              "          try {\n",
              "            const charts = await google.colab.kernel.invokeFunction(\n",
              "                'suggestCharts', [key], {});\n",
              "          } catch (error) {\n",
              "            console.error('Error during call to suggestCharts:', error);\n",
              "          }\n",
              "          quickchartButtonEl.classList.remove('colab-df-spinner');\n",
              "          quickchartButtonEl.classList.add('colab-df-quickchart-complete');\n",
              "        }\n",
              "        (() => {\n",
              "          let quickchartButtonEl =\n",
              "            document.querySelector('#df-49463aa2-b652-4dab-a244-9fac1f70773b button');\n",
              "          quickchartButtonEl.style.display =\n",
              "            google.colab.kernel.accessAllowed ? 'block' : 'none';\n",
              "        })();\n",
              "      </script>\n",
              "    </div>\n",
              "\n",
              "  <div id=\"id_b044a1e1-7577-4082-a553-c1b138d07356\">\n",
              "    <style>\n",
              "      .colab-df-generate {\n",
              "        background-color: #E8F0FE;\n",
              "        border: none;\n",
              "        border-radius: 50%;\n",
              "        cursor: pointer;\n",
              "        display: none;\n",
              "        fill: #1967D2;\n",
              "        height: 32px;\n",
              "        padding: 0 0 0 0;\n",
              "        width: 32px;\n",
              "      }\n",
              "\n",
              "      .colab-df-generate:hover {\n",
              "        background-color: #E2EBFA;\n",
              "        box-shadow: 0px 1px 2px rgba(60, 64, 67, 0.3), 0px 1px 3px 1px rgba(60, 64, 67, 0.15);\n",
              "        fill: #174EA6;\n",
              "      }\n",
              "\n",
              "      [theme=dark] .colab-df-generate {\n",
              "        background-color: #3B4455;\n",
              "        fill: #D2E3FC;\n",
              "      }\n",
              "\n",
              "      [theme=dark] .colab-df-generate:hover {\n",
              "        background-color: #434B5C;\n",
              "        box-shadow: 0px 1px 3px 1px rgba(0, 0, 0, 0.15);\n",
              "        filter: drop-shadow(0px 1px 2px rgba(0, 0, 0, 0.3));\n",
              "        fill: #FFFFFF;\n",
              "      }\n",
              "    </style>\n",
              "    <button class=\"colab-df-generate\" onclick=\"generateWithVariable('resumen')\"\n",
              "            title=\"Generate code using this dataframe.\"\n",
              "            style=\"display:none;\">\n",
              "\n",
              "  <svg xmlns=\"http://www.w3.org/2000/svg\" height=\"24px\"viewBox=\"0 0 24 24\"\n",
              "       width=\"24px\">\n",
              "    <path d=\"M7,19H8.4L18.45,9,17,7.55,7,17.6ZM5,21V16.75L18.45,3.32a2,2,0,0,1,2.83,0l1.4,1.43a1.91,1.91,0,0,1,.58,1.4,1.91,1.91,0,0,1-.58,1.4L9.25,21ZM18.45,9,17,7.55Zm-12,3A5.31,5.31,0,0,0,4.9,8.1,5.31,5.31,0,0,0,1,6.5,5.31,5.31,0,0,0,4.9,4.9,5.31,5.31,0,0,0,6.5,1,5.31,5.31,0,0,0,8.1,4.9,5.31,5.31,0,0,0,12,6.5,5.46,5.46,0,0,0,6.5,12Z\"/>\n",
              "  </svg>\n",
              "    </button>\n",
              "    <script>\n",
              "      (() => {\n",
              "      const buttonEl =\n",
              "        document.querySelector('#id_b044a1e1-7577-4082-a553-c1b138d07356 button.colab-df-generate');\n",
              "      buttonEl.style.display =\n",
              "        google.colab.kernel.accessAllowed ? 'block' : 'none';\n",
              "\n",
              "      buttonEl.onclick = () => {\n",
              "        google.colab.notebook.generateWithVariable('resumen');\n",
              "      }\n",
              "      })();\n",
              "    </script>\n",
              "  </div>\n",
              "\n",
              "    </div>\n",
              "  </div>\n"
            ],
            "application/vnd.google.colaboratory.intrinsic+json": {
              "type": "dataframe",
              "variable_name": "resumen",
              "summary": "{\n  \"name\": \"resumen\",\n  \"rows\": 2,\n  \"fields\": [\n    {\n      \"column\": \"Modelo\",\n      \"properties\": {\n        \"dtype\": \"string\",\n        \"num_unique_values\": 2,\n        \"samples\": [\n          \"DistilBERT\",\n          \"MLP (TF-IDF)\"\n        ],\n        \"semantic_type\": \"\",\n        \"description\": \"\"\n      }\n    },\n    {\n      \"column\": \"Accuracy\",\n      \"properties\": {\n        \"dtype\": \"number\",\n        \"std\": 0.03250303215585449,\n        \"min\": 0.7898686679174484,\n        \"max\": 0.8358348968105066,\n        \"num_unique_values\": 2,\n        \"samples\": [\n          0.8358348968105066,\n          0.7898686679174484\n        ],\n        \"semantic_type\": \"\",\n        \"description\": \"\"\n      }\n    },\n    {\n      \"column\": \"F1-macro\",\n      \"properties\": {\n        \"dtype\": \"number\",\n        \"std\": 0.03250567574667659,\n        \"min\": 0.7898324179693001,\n        \"max\": 0.8358023854643524,\n        \"num_unique_values\": 2,\n        \"samples\": [\n          0.8358023854643524,\n          0.7898324179693001\n        ],\n        \"semantic_type\": \"\",\n        \"description\": \"\"\n      }\n    }\n  ]\n}"
            }
          },
          "metadata": {},
          "execution_count": 44
        }
      ]
    },
    {
      "cell_type": "markdown",
      "source": [
        "Este DataFrame muestra claramente la Accuracy y el F1-macro para cada modelo. Generalmente, utilizamos el **F1-macro** como la métrica principal para decidir cuál modelo es el \"mejor\", ya que proporciona una visión más equilibrada del rendimiento a través de todas las clases, evitando que una clase mayoritaria enmascare un mal rendimiento en clases minoritarias.\n",
        "\n",
        "Basándonos en los valores del F1-macro reportados en la tabla `resumen`, podemos identificar qué modelo ha tenido un desempeño superior en el conjunto de prueba. El código siguiente determina automáticamente si el modelo Transformer (`use_trf`) es el mejor basándose en el F1-macro:\n"
      ],
      "metadata": {
        "id": "wzYX5yIOEs-u"
      }
    },
    {
      "cell_type": "code",
      "source": [
        "# Si DistilBERT gana, calculamos sus predicciones para matriz de confusión\n",
        "from sklearn.metrics import confusion_matrix\n",
        "import numpy as np\n",
        "import matplotlib.pyplot as plt\n",
        "import seaborn as sns\n",
        "\n",
        "def predict_transformer_texts(texts, batch_size=64):\n",
        "    # Tokenizamos en lotes para ahorrar memoria\n",
        "    preds = []\n",
        "    for i in range(0, len(texts), batch_size):\n",
        "        batch = texts[i:i+batch_size]\n",
        "        enc = tokenizer(batch, truncation=True, padding=True, return_tensors=\"pt\").to(DEVICE)\n",
        "        with torch.no_grad():\n",
        "            out = model(**enc).logits\n",
        "        preds.extend(out.argmax(dim=-1).cpu().numpy().tolist())\n",
        "    return np.array(preds)\n",
        "\n",
        "# Elegimos el mejor por F1-macro\n",
        "use_trf = (f1m_trf is not None) and (f1m_trf >= f1m_mlp)\n",
        "print(\"Usando para matriz de confusión:\", \"DistilBERT\" if use_trf else \"MLP\")\n",
        "\n",
        "if use_trf:\n",
        "    compare_texts = test_texts\n",
        "    compare_true  = test_labels\n",
        "    preds_best    = predict_transformer_texts(compare_texts)\n",
        "else:\n",
        "    compare_true  = test_labels\n",
        "    preds_best    = pred_mlp\n",
        "\n",
        "cm = confusion_matrix(compare_true, preds_best, labels=sorted(set(compare_true)))\n",
        "cm\n",
        "\n",
        "\n",
        "plt.figure(figsize=(6, 4))\n",
        "sns.heatmap(cm, annot=True, fmt=\"d\", cmap=\"Blues\", xticklabels=id2label.values(), yticklabels=id2label.values())\n",
        "plt.xlabel(\"Predicción\")\n",
        "plt.ylabel(\"Valor Verdadero\")\n",
        "plt.title(\"Matriz de Confusión\")\n",
        "plt.show()"
      ],
      "metadata": {
        "colab": {
          "base_uri": "https://localhost:8080/",
          "height": 428
        },
        "id": "9hFkiwTx2d52",
        "outputId": "440ba4df-b730-415c-ae67-112df4f72843"
      },
      "execution_count": null,
      "outputs": [
        {
          "output_type": "stream",
          "name": "stdout",
          "text": [
            "Usando para matriz de confusión: DistilBERT\n"
          ]
        },
        {
          "output_type": "display_data",
          "data": {
            "text/plain": [
              "<Figure size 600x400 with 2 Axes>"
            ],
            "image/png": "[encoded data removed]"
          },
          "metadata": {}
        }
      ]
    },
    {
      "cell_type": "markdown",
      "source": [
        "La salida de la celda que genera la matriz de confusión nos confirma qué modelo (`MLP` o `DistilBERT`) fue seleccionado como el mejor basado en esta comparación de métricas. En este caso, como se puede observar en el output de la celda original, DistilBERT es seleccionado.\n",
        "\n",
        "# Matriz de Confusión para el Mejor Modelo\n",
        "\n",
        "Para tener una comprensión más detallada del rendimiento del mejor modelo (determinado por el F1-macro, que en este caso fue DistilBERT), calculamos y analizamos su matriz de confusión.\n",
        "\n",
        "Una **matriz de confusión** es una tabla que visualiza el rendimiento de un algoritmo de clasificación. Cada fila de la matriz representa las instancias en una clase real (verdadera), mientras que cada columna representa las instancias en una clase predicha. Esto nos permite ver no solo cuántas predicciones fueron correctas, sino también dónde el modelo se equivocó (es decir, qué tipos de errores de clasificación cometió).\n",
        "\n",
        "La matriz de confusión para un problema de clasificación binaria como este (clases 'neg' y 'pos') típicamente tiene la siguiente estructura:\n",
        "\n",
        "|               | Predicho Negativo | Predicho Positivo |\n",
        "|---------------|-------------------|-------------------|\n",
        "| **Real Negativo** | Verdaderos Negativos (TN) | Falsos Positivos (FP)   |\n",
        "| **Real Positivo** | Falsos Negativos (FN)   | Verdaderos Positivos (TP) |\n",
        "\n",
        "- **Verdaderos Positivos (TP):** El modelo predijo correctamente la clase positiva.\n",
        "- **Verdaderos Negativos (TN):** El modelo predijo correctamente la clase negativa.\n",
        "- **Falsos Positivos (FP):** El modelo predijo la clase positiva, pero la clase real era negativa (Error de Tipo I).\n",
        "- **Falsos Negativos (FN):** El modelo predijo la clase negativa, pero la clase real era positiva (Error de Tipo II).\n",
        "\n",
        "La matriz de confusión se calcula utilizando la función `confusion_matrix` de `sklearn.metrics`, comparando las etiquetas verdaderas (`compare_true`) con las predicciones del mejor modelo (`preds_best`).\n",
        "\"\"\")"
      ],
      "metadata": {
        "id": "12yLdfVaE-6G"
      }
    },
    {
      "cell_type": "markdown",
      "source": [
        "Interpretación (para clases 0: 'neg', 1: 'pos'):\n",
        "- **454 TN**: El modelo clasificó correctamente 454 reseñas negativas como negativas.\n",
        "- **79 FP**: El modelo clasificó incorrectamente 79 reseñas negativas como positivas.\n",
        "- **91 FN**: El modelo clasificó incorrectamente 91 reseñas positivas como negativas.\n",
        "- **442 TP**: El modelo clasificó correctamente 442 reseñas positivas como positivas."
      ],
      "metadata": {
        "id": "EOxtEfTUECRG"
      }
    },
    {
      "cell_type": "markdown",
      "source": [
        "\n",
        "\n",
        "---\n",
        "\n"
      ],
      "metadata": {
        "id": "PIqQh4Bn_qTr"
      }
    },
    {
      "cell_type": "markdown",
      "metadata": {
        "id": "1ae239e9"
      },
      "source": [
        "## Summary:\n",
        "\n",
        "### Q&A\n",
        "1.  **¿Cuál era el objetivo principal de este notebook?**\n",
        "    El objetivo principal era realizar clasificación de texto comparando un enfoque tradicional (TF-IDF + MLP) con un modelo basado en Transformers (DistilBERT).\n",
        "\n",
        "2.  **¿Qué modelos se compararon en este análisis?**\n",
        "    Se compararon un modelo de Perceptrón Multicapa (MLP) utilizando características extraídas con TF-IDF, y un modelo DistilBERT pre-entrenado ajustado (fine-tuned) para la tarea de clasificación.\n",
        "\n",
        "3.  **¿Cómo se seleccionó el mejor modelo?**\n",
        "    El mejor modelo se seleccionó comparando las métricas de evaluación Accuracy y F1-macro en el conjunto de prueba, dando preferencia al F1-macro por ser más robusto en caso de desbalance de clases.\n",
        "\n",
        "4.  **¿Qué información adicional proporcionó la matriz de confusión?**\n",
        "    La matriz de confusión para el mejor modelo (DistilBERT) mostró el número de Verdaderos Positivos, Verdaderos Negativos, Falsos Positivos y Falsos Negativos, indicando que el modelo tuvo un desempeño similar al clasificar correctamente ambas clases y que cometió un número comparable de Falsos Positivos (79) y Falsos Negativos (91).\n",
        "\n",
        "### Data Analysis Key Findings\n",
        "*   El dataset \"rotten\\_tomatoes\" fue cargado exitosamente, identificando automáticamente las columnas de texto y etiqueta y determinando el número de clases (2: 'neg', 'pos').\n",
        "*   Se implementó y evaluó un modelo tradicional de clasificación de texto usando vectorización TF-IDF y un clasificador MLP.\n",
        "*   Se implementó y evaluó un modelo basado en Transformers (DistilBERT) mediante fine-tuning en el dataset, utilizando el tokenizador y modelo de Hugging Face.\n",
        "*   La comparación de métricas de evaluación (Accuracy y F1-macro) mostró que el modelo DistilBERT tuvo un rendimiento superior al modelo MLP con TF-IDF. (Aunque las métricas exactas no se pudieron incluir en el resumen final debido a las limitaciones de generación, el proceso de comparación se explicó y se identificó a DistilBERT como el mejor).\n",
        "*   La matriz de confusión para el mejor modelo (DistilBERT) reveló que tuvo un desempeño similar al clasificar correctamente reseñas negativas (454 TN) y positivas (442 TP), con errores de clasificación (79 FP y 91 FN) distribuidos de manera relativamente equitativa entre los dos tipos.\n",
        "\n",
        "### Insights or Next Steps\n",
        "*   El uso de modelos Transformers pre-entrenados y ajustados (fine-tuning) demostró ser significativamente más efectivo para la clasificación de texto en este dataset en comparación con un enfoque tradicional basado en TF-IDF y MLP.\n",
        "\n"
      ]
    },
    {
      "cell_type": "code",
      "source": [],
      "metadata": {
        "id": "GiVIcZDbOv84"
      },
      "execution_count": null,
      "outputs": []
    }
  ]
}