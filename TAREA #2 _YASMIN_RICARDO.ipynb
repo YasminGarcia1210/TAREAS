{
 "cells": [
  {
   "cell_type": "markdown",
   "id": "4b26c13e",
   "metadata": {},
   "source": [
    "# NLP con Long-Short Term Memory (LSTM)"
   ]
  },
  {
   "cell_type": "markdown",
   "id": "9bf2574c",
   "metadata": {},
   "source": [
    "## Autores \n",
    "\n",
    "### *  Yasmin Johanna Garcia \n",
    "### *  Javier Ricardo Muñoz"
   ]
  },
  {
   "cell_type": "markdown",
   "id": "759fdda7",
   "metadata": {},
   "source": [
    "### Preparación de paquetes "
   ]
  },
  {
   "cell_type": "code",
   "execution_count": null,
   "id": "6e209b45",
   "metadata": {},
   "outputs": [],
   "source": [
    "!pip install torch torchtext torchvision torchaudio\n",
    "!pip install transformers\n",
    "!pip install datasets\n",
    "!pip install scikit-learn\n",
    "!pip install matplotlib seaborn\n",
    "!pip install --upgrade datasets huggingface_hub\n",
    "!pip install imbalanced-learn]"
   ]
  },
  {
   "cell_type": "markdown",
   "id": "279f035a",
   "metadata": {},
   "source": [
    "# Cargar y explorar el dataset\n"
   ]
  },
  {
   "cell_type": "markdown",
   "id": "d32bb523",
   "metadata": {},
   "source": [
    "# El dataset PAWS-X (Paraphrase Adversaries from Word Scrambling en su versión multilingüe) \n",
    "\n",
    "Corresponde a un conjunto de pares de oraciones diseñadas para evaluar la capacidad de los modelos de lenguaje en tareas de detección de paráfrasis. En particular, el subconjunto en español contiene frases que son muy similares en estructura y vocabulario, pero que no siempre tienen el mismo significado. Cada ejemplo consta de dos oraciones (sentence1 y sentence2) y una etiqueta binaria (label) que indica si ambas expresan la misma idea (1) o si, por el contrario, son diferentes (0). Este dataset es un reto interesante porque exige que el modelo capture matices semánticos sutiles y no se quede únicamente en la coincidencia superficial de palabras."
   ]
  },
  {
   "cell_type": "code",
   "execution_count": 3,
   "id": "fb7f086e",
   "metadata": {},
   "outputs": [
    {
     "name": "stderr",
     "output_type": "stream",
     "text": [
      "c:\\Users\\yasmi\\anaconda\\envs\\torch_gpu\\lib\\site-packages\\tqdm\\auto.py:21: TqdmWarning: IProgress not found. Please update jupyter and ipywidgets. See https://ipywidgets.readthedocs.io/en/stable/user_install.html\n",
      "  from .autonotebook import tqdm as notebook_tqdm\n"
     ]
    },
    {
     "name": "stdout",
     "output_type": "stream",
     "text": [
      "{'id': 1, 'sentence1': 'En París, en octubre de 1560, se reunió en secreto con el embajador inglés, Nicolas Throckmorton, pidiéndole un pasaporte para regresar a Inglaterra a través de Escocia.', 'sentence2': 'En octubre de 1560, se reunió en secreto con el embajador inglés, Nicolas Throckmorton, en París, y le pidió un pasaporte para regresar a Escocia a través de Inglaterra.', 'label': 0}\n"
     ]
    }
   ],
   "source": [
    "#Llamamos el dataset\n",
    "\n",
    "from datasets import load_dataset\n",
    "ds = load_dataset(\"paws-x\", \"es\")\n",
    "print(ds[\"train\"][0])\n"
   ]
  },
  {
   "cell_type": "code",
   "execution_count": 4,
   "id": "d5877ddd",
   "metadata": {},
   "outputs": [
    {
     "name": "stdout",
     "output_type": "stream",
     "text": [
      "{'id': Value('int32'), 'sentence1': Value('string'), 'sentence2': Value('string'), 'label': ClassLabel(names=['0', '1'])}\n",
      "{'id': 1, 'sentence1': 'En París, en octubre de 1560, se reunió en secreto con el embajador inglés, Nicolas Throckmorton, pidiéndole un pasaporte para regresar a Inglaterra a través de Escocia.', 'sentence2': 'En octubre de 1560, se reunió en secreto con el embajador inglés, Nicolas Throckmorton, en París, y le pidió un pasaporte para regresar a Escocia a través de Inglaterra.', 'label': 0}\n"
     ]
    }
   ],
   "source": [
    "# Ver las columnas\n",
    "print(ds[\"train\"].features)\n",
    "\n",
    "# Ejemplo de la primera fila\n",
    "print(ds[\"train\"][0])"
   ]
  },
  {
   "cell_type": "code",
   "execution_count": 5,
   "id": "a2ea3144",
   "metadata": {},
   "outputs": [
    {
     "data": {
      "application/vnd.microsoft.datawrangler.viewer.v0+json": {
       "columns": [
        {
         "name": "index",
         "rawType": "int64",
         "type": "integer"
        },
        {
         "name": "id",
         "rawType": "int32",
         "type": "integer"
        },
        {
         "name": "sentence1",
         "rawType": "object",
         "type": "string"
        },
        {
         "name": "sentence2",
         "rawType": "object",
         "type": "string"
        },
        {
         "name": "label",
         "rawType": "int64",
         "type": "integer"
        }
       ],
       "ref": "4a542f0f-aac2-40e4-8bc6-d8eb44ef5aff",
       "rows": [
        [
         "0",
         "1",
         "En París, en octubre de 1560, se reunió en secreto con el embajador inglés, Nicolas Throckmorton, pidiéndole un pasaporte para regresar a Inglaterra a través de Escocia.",
         "En octubre de 1560, se reunió en secreto con el embajador inglés, Nicolas Throckmorton, en París, y le pidió un pasaporte para regresar a Escocia a través de Inglaterra.",
         "0"
        ],
        [
         "1",
         "2",
         "La temporada de la NBA de 1975: 76 fue la 30ª temporada de la National Basketball Association.",
         "La temporada 1975 - 76 de la Asociación Nacional de Baloncesto fue la temporada 30 de la NBA.",
         "1"
        ],
        [
         "2",
         "3",
         "También hay discusiones específicas, debates de perfil público y discusiones de proyectos.",
         "También hay discusiones públicas, discusiones de perfiles específicos y discusiones de proyectos.",
         "0"
        ],
        [
         "3",
         "4",
         "Cuando se pueden mantener tasas de flujo comparables, los resultados son altos.",
         "Los resultados son altos cuando se pueden mantener tasas de flujo comparables.",
         "1"
        ],
        [
         "4",
         "5",
         "Es la sede del distrito de Zerendi en la región de Akmola.",
         "Es la sede del distrito de Zerendi en la región de Akmola.",
         "1"
        ],
        [
         "5",
         "6",
         "William Henry Henry Harman nació el 17 de febrero de 1828 en Waynesboro, Virginia, donde sus padres eran Lewis y Sally (Garber) Harman.",
         "William Henry Harman nació en Waynesboro, Virginia, el 17 de febrero de 1828. Sus padres fueron Lewis y Sally (Garber) Harman.",
         "1"
        ],
        [
         "6",
         "7",
         "Bullion Express: el concepto se está introduciendo en la apertura de una nueva tienda en Dallas, Texas, en Preston Center.",
         "2011-Se presenta el concepto DGSE Bullion Express, se abrió una nueva tienda en Preston Center en Dallas, Texas",
         "0"
        ],
        [
         "7",
         "8",
         "Con una cantidad discreta de probabilidades Fórmula 1 con la condición Fórmula 2 y Fórmula 3 cualquier número real, Tsallis se define como entropía como",
         "Dado un conjunto discreto de probabilidades, la fórmula _ 1 con la fórmula de condición _ 2 y la fórmula _ 3 cualquier número real, la entropía de Tsallis se define como",
         "1"
        ]
       ],
       "shape": {
        "columns": 4,
        "rows": 8
       }
      },
      "text/html": [
       "<div>\n",
       "<style scoped>\n",
       "    .dataframe tbody tr th:only-of-type {\n",
       "        vertical-align: middle;\n",
       "    }\n",
       "\n",
       "    .dataframe tbody tr th {\n",
       "        vertical-align: top;\n",
       "    }\n",
       "\n",
       "    .dataframe thead th {\n",
       "        text-align: right;\n",
       "    }\n",
       "</style>\n",
       "<table border=\"1\" class=\"dataframe\">\n",
       "  <thead>\n",
       "    <tr style=\"text-align: right;\">\n",
       "      <th></th>\n",
       "      <th>id</th>\n",
       "      <th>sentence1</th>\n",
       "      <th>sentence2</th>\n",
       "      <th>label</th>\n",
       "    </tr>\n",
       "  </thead>\n",
       "  <tbody>\n",
       "    <tr>\n",
       "      <th>0</th>\n",
       "      <td>1</td>\n",
       "      <td>En París, en octubre de 1560, se reunió en sec...</td>\n",
       "      <td>En octubre de 1560, se reunió en secreto con e...</td>\n",
       "      <td>0</td>\n",
       "    </tr>\n",
       "    <tr>\n",
       "      <th>1</th>\n",
       "      <td>2</td>\n",
       "      <td>La temporada de la NBA de 1975: 76 fue la 30ª ...</td>\n",
       "      <td>La temporada 1975 - 76 de la Asociación Nacion...</td>\n",
       "      <td>1</td>\n",
       "    </tr>\n",
       "    <tr>\n",
       "      <th>2</th>\n",
       "      <td>3</td>\n",
       "      <td>También hay discusiones específicas, debates d...</td>\n",
       "      <td>También hay discusiones públicas, discusiones ...</td>\n",
       "      <td>0</td>\n",
       "    </tr>\n",
       "    <tr>\n",
       "      <th>3</th>\n",
       "      <td>4</td>\n",
       "      <td>Cuando se pueden mantener tasas de flujo compa...</td>\n",
       "      <td>Los resultados son altos cuando se pueden mant...</td>\n",
       "      <td>1</td>\n",
       "    </tr>\n",
       "    <tr>\n",
       "      <th>4</th>\n",
       "      <td>5</td>\n",
       "      <td>Es la sede del distrito de Zerendi en la regió...</td>\n",
       "      <td>Es la sede del distrito de Zerendi en la regió...</td>\n",
       "      <td>1</td>\n",
       "    </tr>\n",
       "    <tr>\n",
       "      <th>5</th>\n",
       "      <td>6</td>\n",
       "      <td>William Henry Henry Harman nació el 17 de febr...</td>\n",
       "      <td>William Henry Harman nació en Waynesboro, Virg...</td>\n",
       "      <td>1</td>\n",
       "    </tr>\n",
       "    <tr>\n",
       "      <th>6</th>\n",
       "      <td>7</td>\n",
       "      <td>Bullion Express: el concepto se está introduci...</td>\n",
       "      <td>2011-Se presenta el concepto DGSE Bullion Expr...</td>\n",
       "      <td>0</td>\n",
       "    </tr>\n",
       "    <tr>\n",
       "      <th>7</th>\n",
       "      <td>8</td>\n",
       "      <td>Con una cantidad discreta de probabilidades Fó...</td>\n",
       "      <td>Dado un conjunto discreto de probabilidades, l...</td>\n",
       "      <td>1</td>\n",
       "    </tr>\n",
       "  </tbody>\n",
       "</table>\n",
       "</div>"
      ],
      "text/plain": [
       "   id                                          sentence1  \\\n",
       "0   1  En París, en octubre de 1560, se reunió en sec...   \n",
       "1   2  La temporada de la NBA de 1975: 76 fue la 30ª ...   \n",
       "2   3  También hay discusiones específicas, debates d...   \n",
       "3   4  Cuando se pueden mantener tasas de flujo compa...   \n",
       "4   5  Es la sede del distrito de Zerendi en la regió...   \n",
       "5   6  William Henry Henry Harman nació el 17 de febr...   \n",
       "6   7  Bullion Express: el concepto se está introduci...   \n",
       "7   8  Con una cantidad discreta de probabilidades Fó...   \n",
       "\n",
       "                                           sentence2  label  \n",
       "0  En octubre de 1560, se reunió en secreto con e...      0  \n",
       "1  La temporada 1975 - 76 de la Asociación Nacion...      1  \n",
       "2  También hay discusiones públicas, discusiones ...      0  \n",
       "3  Los resultados son altos cuando se pueden mant...      1  \n",
       "4  Es la sede del distrito de Zerendi en la regió...      1  \n",
       "5  William Henry Harman nació en Waynesboro, Virg...      1  \n",
       "6  2011-Se presenta el concepto DGSE Bullion Expr...      0  \n",
       "7  Dado un conjunto discreto de probabilidades, l...      1  "
      ]
     },
     "execution_count": 5,
     "metadata": {},
     "output_type": "execute_result"
    }
   ],
   "source": [
    "ds[\"train\"].to_pandas().head(8)"
   ]
  },
  {
   "cell_type": "markdown",
   "id": "ee8974b1",
   "metadata": {},
   "source": [
    "# Preprocesamiento y tokenización"
   ]
  },
  {
   "cell_type": "code",
   "execution_count": 10,
   "id": "71b3ccb8",
   "metadata": {},
   "outputs": [],
   "source": [
    "from transformers import AutoTokenizer\n",
    "\n",
    "# Tokenizador multilingüe (incluye español)\n",
    "tokenizer = AutoTokenizer.from_pretrained(\"bert-base-multilingual-cased\")\n"
   ]
  },
  {
   "cell_type": "code",
   "execution_count": 11,
   "id": "debba7d9",
   "metadata": {},
   "outputs": [],
   "source": [
    "def tokenize_function(examples):\n",
    "    return tokenizer(\n",
    "        examples[\"sentence1\"],\n",
    "        examples[\"sentence2\"],   # usamos ambas frases\n",
    "        padding=\"max_length\",    # rellenamos hasta max_length\n",
    "        truncation=True,\n",
    "        max_length=64            # frases cortas → con 64 tokens basta\n",
    "    )\n"
   ]
  },
  {
   "cell_type": "code",
   "execution_count": 12,
   "id": "7be84758",
   "metadata": {},
   "outputs": [
    {
     "data": {
      "text/plain": [
       "DatasetDict({\n",
       "    train: Dataset({\n",
       "        features: ['id', 'sentence1', 'sentence2', 'label', 'input_ids', 'token_type_ids', 'attention_mask'],\n",
       "        num_rows: 49401\n",
       "    })\n",
       "    test: Dataset({\n",
       "        features: ['id', 'sentence1', 'sentence2', 'label', 'input_ids', 'token_type_ids', 'attention_mask'],\n",
       "        num_rows: 2000\n",
       "    })\n",
       "    validation: Dataset({\n",
       "        features: ['id', 'sentence1', 'sentence2', 'label', 'input_ids', 'token_type_ids', 'attention_mask'],\n",
       "        num_rows: 2000\n",
       "    })\n",
       "})"
      ]
     },
     "execution_count": 12,
     "metadata": {},
     "output_type": "execute_result"
    }
   ],
   "source": [
    "tokenized_ds = ds.map(tokenize_function, batched=True)\n",
    "tokenized_ds\n",
    "\n"
   ]
  },
  {
   "cell_type": "code",
   "execution_count": 14,
   "id": "e3401905",
   "metadata": {},
   "outputs": [
    {
     "name": "stdout",
     "output_type": "stream",
     "text": [
      "id: 1\n",
      "sentence1: En París, en octubre de 1560, se reunió en secreto con el embajador inglés, Nico...\n",
      "sentence2: En octubre de 1560, se reunió en secreto con el embajador inglés, Nicolas Throck...\n",
      "label: 0\n",
      "input_ids: [101, 10243, 15850, 117, 10110, 14082, 10104, 36995, 117, 10126, 90876, 10110, 6...\n",
      "token_type_ids: [0, 0, 0, 0, 0, 0, 0, 0, 0, 0, 0, 0, 0, 0, 0, 0, 0, 0, 0, 0, 0, 0, 0, 0, 0, 0, 0...\n",
      "attention_mask: [1, 1, 1, 1, 1, 1, 1, 1, 1, 1, 1, 1, 1, 1, 1, 1, 1, 1, 1, 1, 1, 1, 1, 1, 1, 1, 1...\n"
     ]
    }
   ],
   "source": [
    "import torch\n",
    "ejemplo = tokenized_ds[\"train\"][0]\n",
    "\n",
    "for k, v in ejemplo.items():\n",
    "    if isinstance(v, torch.Tensor):\n",
    "        print(f\"{k}: shape={v.shape}, dtype={v.dtype}\")\n",
    "    else:\n",
    "        print(f\"{k}: {v if len(str(v)) < 80 else str(v)[:80] + '...'}\")\n"
   ]
  },
  {
   "cell_type": "code",
   "execution_count": 15,
   "id": "1c455166",
   "metadata": {},
   "outputs": [
    {
     "name": "stdout",
     "output_type": "stream",
     "text": [
      "Texto más corto: 1\n",
      "Texto más largo: 525\n",
      "Longitud promedio: 236.36\n"
     ]
    }
   ],
   "source": [
    "# Calcular longitudes de los pares de oraciones concatenados\n",
    "text_lengths = [len(row[\"sentence1\"] + \" \" + row[\"sentence2\"]) for row in ds[\"train\"]]\n",
    "\n",
    "print(f\"Texto más corto: {min(text_lengths)}\")\n",
    "print(f\"Texto más largo: {max(text_lengths)}\")\n",
    "print(f\"Longitud promedio: {sum(text_lengths) / len(text_lengths):.2f}\")\n"
   ]
  },
  {
   "cell_type": "markdown",
   "id": "58faee84",
   "metadata": {},
   "source": [
    "## Preparar para Pytorch"
   ]
  },
  {
   "cell_type": "code",
   "execution_count": 16,
   "id": "2ccc034a",
   "metadata": {},
   "outputs": [
    {
     "name": "stdout",
     "output_type": "stream",
     "text": [
      "label torch.Size([32])\n",
      "input_ids torch.Size([32, 64])\n",
      "token_type_ids torch.Size([32, 64])\n",
      "attention_mask torch.Size([32, 64])\n"
     ]
    }
   ],
   "source": [
    "import torch\n",
    "from torch.utils.data import DataLoader\n",
    "\n",
    "# Formato de tensores\n",
    "tokenized_ds.set_format(type=\"torch\", columns=[\"input_ids\", \"token_type_ids\", \"attention_mask\", \"label\"])\n",
    "\n",
    "# Crear DataLoaders\n",
    "train_loader = DataLoader(tokenized_ds[\"train\"], batch_size=32, shuffle=True)\n",
    "val_loader = DataLoader(tokenized_ds[\"validation\"], batch_size=32)\n",
    "test_loader = DataLoader(tokenized_ds[\"test\"], batch_size=32)\n",
    "\n",
    "# Revisar un batch\n",
    "batch = next(iter(train_loader))\n",
    "for k,v in batch.items():\n",
    "    print(k, v.shape)\n"
   ]
  },
  {
   "cell_type": "markdown",
   "id": "8631c6c4",
   "metadata": {},
   "source": [
    "# Definir un modelo LSTM para clasificación"
   ]
  },
  {
   "cell_type": "code",
   "execution_count": 17,
   "id": "a3ed5298",
   "metadata": {},
   "outputs": [],
   "source": [
    "import torch\n",
    "import torch.nn as nn\n",
    "\n",
    "class LSTMClassifier(nn.Module):\n",
    "    def __init__(self, vocab_size, embed_dim=128, hidden_dim=128, output_dim=2, n_layers=1, dropout=0.3):\n",
    "        super(LSTMClassifier, self).__init__()\n",
    "        \n",
    "        # Capa de embeddings\n",
    "        self.embedding = nn.Embedding(vocab_size, embed_dim, padding_idx=0)\n",
    "        \n",
    "        # LSTM\n",
    "        self.lstm = nn.LSTM(\n",
    "            input_size=embed_dim,\n",
    "            hidden_size=hidden_dim,\n",
    "            num_layers=n_layers,\n",
    "            batch_first=True,\n",
    "            dropout=dropout if n_layers > 1 else 0\n",
    "        )\n",
    "        \n",
    "        # Clasificación final\n",
    "        self.fc = nn.Linear(hidden_dim, output_dim)\n",
    "        \n",
    "    def forward(self, input_ids, attention_mask=None, token_type_ids=None):\n",
    "        # input_ids: [batch, seq_len]\n",
    "        embedded = self.embedding(input_ids)   # [batch, seq_len, embed_dim]\n",
    "        lstm_out, (hidden, cell) = self.lstm(embedded)\n",
    "        \n",
    "        # Tomamos el último estado oculto\n",
    "        hidden = hidden[-1]   # [batch, hidden_dim]\n",
    "        \n",
    "        # Pasamos por capa fully connected\n",
    "        output = self.fc(hidden)   # [batch, output_dim]\n",
    "        return output\n"
   ]
  },
  {
   "cell_type": "markdown",
   "id": "3deaf6f0",
   "metadata": {},
   "source": [
    "El modelo LSTMClassifier está compuesto por tres partes principales:  \n",
    "\n",
    "1. **Embedding Layer**: convierte los índices de palabras del vocabulario (119,547 tokens) en vectores densos de dimensión 128, permitiendo representar el significado semántico de cada palabra.  \n",
    "2. **LSTM Layer**: recibe las secuencias de embeddings y captura dependencias temporales/contextuales en ambas direcciones, generando representaciones de las frases que tienen en cuenta el orden y la estructura.  \n",
    "3. **Fully Connected Layer (Linear)**: toma la última representación oculta del LSTM y la proyecta a dos salidas posibles, correspondientes a las clases del problema (0 = no paráfrasis, 1 = paráfrasis).  \n",
    "\n",
    "En conjunto, esta arquitectura permite transformar texto en predicciones de clase de manera secuencial, aprovechando la capacidad del LSTM para modelar relaciones entre palabras en oraciones."
   ]
  },
  {
   "cell_type": "code",
   "execution_count": 18,
   "id": "c6e8e49b",
   "metadata": {},
   "outputs": [
    {
     "name": "stdout",
     "output_type": "stream",
     "text": [
      "LSTMClassifier(\n",
      "  (embedding): Embedding(119547, 128, padding_idx=0)\n",
      "  (lstm): LSTM(128, 128, batch_first=True)\n",
      "  (fc): Linear(in_features=128, out_features=2, bias=True)\n",
      ")\n"
     ]
    }
   ],
   "source": [
    "vocab_size = tokenizer.vocab_size\n",
    "\n",
    "model = LSTMClassifier(vocab_size=vocab_size, embed_dim=128, hidden_dim=128, output_dim=2)\n",
    "print(model)\n"
   ]
  },
  {
   "cell_type": "markdown",
   "id": "b4147e20",
   "metadata": {},
   "source": [
    "# Definir pérdida, optimizador y loop de entrenamiento"
   ]
  },
  {
   "cell_type": "code",
   "execution_count": 19,
   "id": "d433e9f9",
   "metadata": {},
   "outputs": [
    {
     "name": "stdout",
     "output_type": "stream",
     "text": [
      "CUDA disponible: True\n",
      "Nombre GPU: NVIDIA GeForce RTX 3050 Laptop GPU\n",
      "Versión CUDA en PyTorch: 12.1\n"
     ]
    }
   ],
   "source": [
    "import torch\n",
    "print(\"CUDA disponible:\", torch.cuda.is_available())\n",
    "if torch.cuda.is_available():\n",
    "    print(\"Nombre GPU:\", torch.cuda.get_device_name(0))\n",
    "    print(\"Versión CUDA en PyTorch:\", torch.version.cuda)\n"
   ]
  },
  {
   "cell_type": "code",
   "execution_count": 20,
   "id": "618e7205",
   "metadata": {},
   "outputs": [
    {
     "name": "stdout",
     "output_type": "stream",
     "text": [
      "Entrenando en: cuda\n"
     ]
    }
   ],
   "source": [
    "import torch.optim as optim\n",
    "\n",
    "# Usar GPU si está disponible\n",
    "device = torch.device(\"cuda\" if torch.cuda.is_available() else \"cpu\")\n",
    "print(\"Entrenando en:\", device)\n",
    "\n",
    "model = model.to(device)\n",
    "\n",
    "# Función de pérdida\n",
    "criterion = nn.CrossEntropyLoss()\n",
    "\n",
    "# Optimizador\n",
    "optimizer = optim.Adam(model.parameters(), lr=1e-3)\n"
   ]
  },
  {
   "cell_type": "markdown",
   "id": "317df3c9",
   "metadata": {},
   "source": [
    "## Función de entrenamiento!"
   ]
  },
  {
   "cell_type": "code",
   "execution_count": 21,
   "id": "b23a3607",
   "metadata": {},
   "outputs": [],
   "source": [
    "def train_epoch(model, data_loader, criterion, optimizer, device):\n",
    "    model.train()\n",
    "    total_loss, total_correct = 0, 0\n",
    "    \n",
    "    for batch in data_loader:\n",
    "        input_ids = batch[\"input_ids\"].to(device)\n",
    "        labels = batch[\"label\"].to(device)\n",
    "        \n",
    "        # Forward\n",
    "        outputs = model(input_ids)\n",
    "        loss = criterion(outputs, labels)\n",
    "        \n",
    "        # Backpropagation\n",
    "        optimizer.zero_grad()\n",
    "        loss.backward()\n",
    "        optimizer.step()\n",
    "        \n",
    "        # Métricas\n",
    "        preds = torch.argmax(outputs, dim=1)\n",
    "        total_loss += loss.item()\n",
    "        total_correct += (preds == labels).sum().item()\n",
    "    \n",
    "    accuracy = total_correct / len(data_loader.dataset)\n",
    "    return total_loss / len(data_loader), accuracy\n"
   ]
  },
  {
   "cell_type": "markdown",
   "id": "3ec73072",
   "metadata": {},
   "source": [
    "## Función de validación "
   ]
  },
  {
   "cell_type": "code",
   "execution_count": 22,
   "id": "781fe968",
   "metadata": {},
   "outputs": [],
   "source": [
    "def eval_epoch(model, data_loader, criterion, device):\n",
    "    model.eval()\n",
    "    total_loss, total_correct = 0, 0\n",
    "    \n",
    "    with torch.no_grad():\n",
    "        for batch in data_loader:\n",
    "            input_ids = batch[\"input_ids\"].to(device)\n",
    "            labels = batch[\"label\"].to(device)\n",
    "            \n",
    "            outputs = model(input_ids)\n",
    "            loss = criterion(outputs, labels)\n",
    "            \n",
    "            preds = torch.argmax(outputs, dim=1)\n",
    "            total_loss += loss.item()\n",
    "            total_correct += (preds == labels).sum().item()\n",
    "    \n",
    "    accuracy = total_correct / len(data_loader.dataset)\n",
    "    return total_loss / len(data_loader), accuracy\n"
   ]
  },
  {
   "cell_type": "markdown",
   "id": "1c9fb515",
   "metadata": {},
   "source": [
    "## Loops de entrenamiento "
   ]
  },
  {
   "cell_type": "code",
   "execution_count": 23,
   "id": "377a0c83",
   "metadata": {},
   "outputs": [
    {
     "name": "stdout",
     "output_type": "stream",
     "text": [
      "Epoch 1/10\n",
      "  Train -> Loss: 0.6874, Acc: 0.5571\n",
      "  Valid -> Loss: 0.6817, Acc: 0.5765\n",
      "Epoch 2/10\n",
      "  Train -> Loss: 0.6847, Acc: 0.5628\n",
      "  Valid -> Loss: 0.6844, Acc: 0.5750\n",
      "Epoch 3/10\n",
      "  Train -> Loss: 0.6827, Acc: 0.5720\n",
      "  Valid -> Loss: 0.6836, Acc: 0.5750\n",
      "Epoch 4/10\n",
      "  Train -> Loss: 0.6700, Acc: 0.5890\n",
      "  Valid -> Loss: 0.6852, Acc: 0.5800\n",
      "Epoch 5/10\n",
      "  Train -> Loss: 0.6560, Acc: 0.6035\n",
      "  Valid -> Loss: 0.6833, Acc: 0.5830\n",
      "Epoch 6/10\n",
      "  Train -> Loss: 0.6429, Acc: 0.6151\n",
      "  Valid -> Loss: 0.6963, Acc: 0.5765\n",
      "Epoch 7/10\n",
      "  Train -> Loss: 0.6319, Acc: 0.6263\n",
      "  Valid -> Loss: 0.6962, Acc: 0.5800\n",
      "Epoch 8/10\n",
      "  Train -> Loss: 0.6204, Acc: 0.6367\n",
      "  Valid -> Loss: 0.7174, Acc: 0.5715\n",
      "Epoch 9/10\n",
      "  Train -> Loss: 0.6089, Acc: 0.6465\n",
      "  Valid -> Loss: 0.7136, Acc: 0.5745\n",
      "Epoch 10/10\n",
      "  Train -> Loss: 0.5970, Acc: 0.6560\n",
      "  Valid -> Loss: 0.7190, Acc: 0.5675\n"
     ]
    }
   ],
   "source": [
    "EPOCHS = 10\n",
    "\n",
    "for epoch in range(EPOCHS):\n",
    "    train_loss, train_acc = train_epoch(model, train_loader, criterion, optimizer, device)\n",
    "    val_loss, val_acc = eval_epoch(model, val_loader, criterion, device)\n",
    "    \n",
    "    print(f\"Epoch {epoch+1}/{EPOCHS}\")\n",
    "    print(f\"  Train -> Loss: {train_loss:.4f}, Acc: {train_acc:.4f}\")\n",
    "    print(f\"  Valid -> Loss: {val_loss:.4f}, Acc: {val_acc:.4f}\")\n"
   ]
  },
  {
   "cell_type": "markdown",
   "id": "2748138e",
   "metadata": {},
   "source": [
    "Durante el proceso de entrenamiento del modelo LSTMClassifier se observó una disminución progresiva en la función de pérdida y un aumento sostenido en la exactitud sobre el conjunto de entrenamiento (de 0.55 a 0.65 en 10 épocas), lo cual indica que el modelo logró ajustar sus parámetros y aprender patrones de los datos. Sin embargo, en el conjunto de validación la exactitud se mantuvo prácticamente constante alrededor del 0.57–0.58, mientras que la pérdida tendió a incrementarse a partir de la quinta época. Este comportamiento refleja un fenómeno de sobreajuste, en el cual el modelo mejora su desempeño sobre los datos de entrenamiento pero pierde capacidad de generalización hacia datos no vistos. En consecuencia, aunque se evidencian avances en la fase de aprendizaje, el rendimiento en validación sugiere la necesidad de aplicar técnicas de regularización, como el uso de early stopping, incremento de dropout o el empleo de arquitecturas más robustas, a fin de mejorar la capacidad predictiva y el equilibrio entre entrenamiento y validación."
   ]
  },
  {
   "cell_type": "markdown",
   "id": "3a7afe41",
   "metadata": {},
   "source": [
    "## Evaluación "
   ]
  },
  {
   "cell_type": "code",
   "execution_count": null,
   "id": "d1c751fd",
   "metadata": {},
   "outputs": [],
   "source": [
    "import sys\n",
    "!{sys.executable} -m pip install seaborn\n"
   ]
  },
  {
   "cell_type": "code",
   "execution_count": 26,
   "id": "87d285a6",
   "metadata": {},
   "outputs": [],
   "source": [
    "import matplotlib.pyplot as plt\n"
   ]
  },
  {
   "cell_type": "code",
   "execution_count": 27,
   "id": "c087904d",
   "metadata": {},
   "outputs": [
    {
     "name": "stdout",
     "output_type": "stream",
     "text": [
      "Accuracy en test: 0.541\n",
      "\n",
      "Reporte de clasificación:\n",
      "                precision    recall  f1-score   support\n",
      "\n",
      "No paráfrasis       0.55      0.88      0.68      1093\n",
      "   Paráfrasis       0.48      0.14      0.21       907\n",
      "\n",
      "     accuracy                           0.54      2000\n",
      "    macro avg       0.51      0.51      0.44      2000\n",
      " weighted avg       0.52      0.54      0.47      2000\n",
      "\n"
     ]
    }
   ],
   "source": [
    "from sklearn.metrics import accuracy_score, classification_report, confusion_matrix\n",
    "import seaborn as sns\n",
    "import matplotlib.pyplot as plt\n",
    "\n",
    "# Evaluación en test set\n",
    "model.eval()\n",
    "all_preds, all_labels = [], []\n",
    "\n",
    "with torch.no_grad():\n",
    "    for batch in test_loader:\n",
    "        input_ids = batch[\"input_ids\"].to(device)\n",
    "        labels = batch[\"label\"].to(device)\n",
    "\n",
    "        outputs = model(input_ids)\n",
    "        preds = torch.argmax(outputs, dim=1)\n",
    "\n",
    "        all_preds.extend(preds.cpu().numpy())\n",
    "        all_labels.extend(labels.cpu().numpy())\n",
    "\n",
    "# Métricas generales\n",
    "acc = accuracy_score(all_labels, all_preds)\n",
    "print(\"Accuracy en test:\", acc)\n",
    "print(\"\\nReporte de clasificación:\\n\", classification_report(all_labels, all_preds, target_names=[\"No paráfrasis\", \"Paráfrasis\"]))\n"
   ]
  },
  {
   "cell_type": "code",
   "execution_count": 30,
   "id": "b4477ac1",
   "metadata": {},
   "outputs": [
    {
     "data": {
      "image/png": "[encoded data removed]",
      "text/plain": [
       "<Figure size 500x400 with 2 Axes>"
      ]
     },
     "metadata": {},
     "output_type": "display_data"
    }
   ],
   "source": [
    "cm = confusion_matrix(all_labels, all_preds)\n",
    "\n",
    "plt.figure(figsize=(5,4))\n",
    "sns.heatmap(cm, annot=True, fmt=\"d\", cmap=\"Blues\",\n",
    "            xticklabels=[\"No paráfrasis\", \"Paráfrasis\"],\n",
    "            yticklabels=[\"No paráfrasis\", \"Paráfrasis\"])\n",
    "plt.xlabel(\"Predicción\")\n",
    "plt.ylabel(\"Etiqueta real\")\n",
    "plt.title(\"Matriz de confusión en test\")\n",
    "plt.show()\n"
   ]
  },
  {
   "cell_type": "markdown",
   "id": "e3f2db45",
   "metadata": {},
   "source": [
    "# Interpretación de resultados\n",
    "\n",
    "El modelo alcanzó una exactitud global del 54% en el conjunto de prueba, valor cercano al obtenido en las fases anteriores y que refleja un rendimiento limitado. \n",
    "\n",
    "En el desglose por clases, se observa que el modelo mantiene un buen desempeño en la categoría No paráfrasis, con un recall de 0.88 y un F1-score de 0.68, lo cual indica que identifica la mayoría de los casos negativos. Sin embargo, en la clase Paráfrasis el comportamiento sigue siendo deficiente, con un recall de apenas 0.14 y un F1-score de 0.21, lo que evidencia una baja capacidad para reconocer correctamente los ejemplos positivos. \n",
    "\n",
    "El promedio macro de F1 (0.44) confirma el desequilibrio en el desempeño entre ambas clases. En conjunto, los resultados sugieren que, aunque el modelo presenta una tendencia a favorecer la predicción de la clase mayoritaria, persiste la dificultad para discriminar adecuadamente las paráfrasis, por lo que serían necesarias técnicas adicionales de balanceo de clases, mayor regularización o la implementación de modelos preentrenados más sofisticados."
   ]
  },
  {
   "cell_type": "markdown",
   "id": "698cafc1",
   "metadata": {},
   "source": [
    "# Mejora del Modelo "
   ]
  },
  {
   "cell_type": "code",
   "execution_count": 31,
   "id": "52e87fe4",
   "metadata": {},
   "outputs": [
    {
     "name": "stdout",
     "output_type": "stream",
     "text": [
      "Distribución de clases: {np.int64(0): np.int64(27572), np.int64(1): np.int64(21829)}\n"
     ]
    }
   ],
   "source": [
    "import numpy as np\n",
    "\n",
    "# Contar clases en train\n",
    "labels = np.array(ds[\"train\"][\"label\"])\n",
    "unique, counts = np.unique(labels, return_counts=True)\n",
    "\n",
    "print(\"Distribución de clases:\", dict(zip(unique, counts)))\n"
   ]
  },
  {
   "cell_type": "markdown",
   "id": "2ab4448e",
   "metadata": {},
   "source": [
    "### Definir class weights"
   ]
  },
  {
   "cell_type": "code",
   "execution_count": 32,
   "id": "c23d950b",
   "metadata": {},
   "outputs": [
    {
     "name": "stdout",
     "output_type": "stream",
     "text": [
      "Pesos de clases: tensor([0.4419, 0.5581])\n"
     ]
    }
   ],
   "source": [
    "import torch\n",
    "\n",
    "# Cantidades de clases\n",
    "counts = torch.tensor([27572, 21829], dtype=torch.float)\n",
    "\n",
    "# Pesos inversos a la frecuencia\n",
    "class_weights = 1.0 / counts\n",
    "class_weights = class_weights / class_weights.sum()  # normalizar un poco\n",
    "\n",
    "print(\"Pesos de clases:\", class_weights)\n",
    "\n",
    "# Pasar a GPU si está disponible\n",
    "class_weights = class_weights.to(device)\n",
    "\n",
    "# Redefinir criterio con pesos\n",
    "criterion = nn.CrossEntropyLoss(weight=class_weights)\n"
   ]
  },
  {
   "cell_type": "code",
   "execution_count": 33,
   "id": "e37e3e12",
   "metadata": {},
   "outputs": [
    {
     "name": "stdout",
     "output_type": "stream",
     "text": [
      "Epoch 1/10\n",
      "  Train -> Loss: 0.5944, Acc: 0.6586\n",
      "  Valid -> Loss: 0.7348, Acc: 0.5630\n",
      "Epoch 2/10\n",
      "  Train -> Loss: 0.5817, Acc: 0.6669\n",
      "  Valid -> Loss: 0.7500, Acc: 0.5120\n",
      "Epoch 3/10\n",
      "  Train -> Loss: 0.5701, Acc: 0.6737\n",
      "  Valid -> Loss: 0.8041, Acc: 0.5520\n",
      "Epoch 4/10\n",
      "  Train -> Loss: 0.5581, Acc: 0.6838\n",
      "  Valid -> Loss: 0.8195, Acc: 0.5445\n",
      "Epoch 5/10\n",
      "  Train -> Loss: 0.5455, Acc: 0.6912\n",
      "  Valid -> Loss: 0.8202, Acc: 0.5400\n",
      "Epoch 6/10\n",
      "  Train -> Loss: 0.5333, Acc: 0.7007\n",
      "  Valid -> Loss: 0.8538, Acc: 0.5405\n",
      "Epoch 7/10\n",
      "  Train -> Loss: 0.5205, Acc: 0.7089\n",
      "  Valid -> Loss: 0.8543, Acc: 0.5300\n",
      "Epoch 8/10\n",
      "  Train -> Loss: 0.5074, Acc: 0.7156\n",
      "  Valid -> Loss: 0.9028, Acc: 0.5255\n",
      "Epoch 9/10\n",
      "  Train -> Loss: 0.4946, Acc: 0.7247\n",
      "  Valid -> Loss: 0.9542, Acc: 0.5300\n",
      "Epoch 10/10\n",
      "  Train -> Loss: 0.4810, Acc: 0.7341\n",
      "  Valid -> Loss: 0.9566, Acc: 0.5125\n"
     ]
    }
   ],
   "source": [
    "## reentrenar el modelo con los nuevos pesos    \n",
    "EPOCHS = 10\n",
    "for epoch in range(EPOCHS):\n",
    "    train_loss, train_acc = train_epoch(model, train_loader, criterion, optimizer, device)\n",
    "    val_loss, val_acc = eval_epoch(model, val_loader, criterion, device)\n",
    "    \n",
    "    print(f\"Epoch {epoch+1}/{EPOCHS}\")\n",
    "    print(f\"  Train -> Loss: {train_loss:.4f}, Acc: {train_acc:.4f}\")\n",
    "    print(f\"  Valid -> Loss: {val_loss:.4f}, Acc: {val_acc:.4f}\")\n"
   ]
  },
  {
   "cell_type": "code",
   "execution_count": 34,
   "id": "5b25927c",
   "metadata": {},
   "outputs": [
    {
     "name": "stdout",
     "output_type": "stream",
     "text": [
      "Accuracy en test: 0.508\n",
      "\n",
      "Reporte de clasificación:\n",
      "                precision    recall  f1-score   support\n",
      "\n",
      "No paráfrasis       0.55      0.54      0.55      1093\n",
      "   Paráfrasis       0.46      0.47      0.46       907\n",
      "\n",
      "     accuracy                           0.51      2000\n",
      "    macro avg       0.50      0.50      0.50      2000\n",
      " weighted avg       0.51      0.51      0.51      2000\n",
      "\n"
     ]
    },
    {
     "data": {
      "image/png": "[encoded data removed]",
      "text/plain": [
       "<Figure size 500x400 with 2 Axes>"
      ]
     },
     "metadata": {},
     "output_type": "display_data"
    }
   ],
   "source": [
    "from sklearn.metrics import accuracy_score, classification_report, confusion_matrix\n",
    "import seaborn as sns\n",
    "import matplotlib.pyplot as plt\n",
    "\n",
    "# --- Evaluación en test ---\n",
    "model.eval()\n",
    "all_preds, all_labels = [], []\n",
    "\n",
    "with torch.no_grad():\n",
    "    for batch in test_loader:\n",
    "        input_ids = batch[\"input_ids\"].to(device)\n",
    "        labels = batch[\"label\"].to(device)\n",
    "\n",
    "        outputs = model(input_ids)\n",
    "        preds = torch.argmax(outputs, dim=1)\n",
    "\n",
    "        all_preds.extend(preds.cpu().numpy())\n",
    "        all_labels.extend(labels.cpu().numpy())\n",
    "\n",
    "# Métricas generales\n",
    "acc = accuracy_score(all_labels, all_preds)\n",
    "print(\"Accuracy en test:\", acc)\n",
    "print(\"\\nReporte de clasificación:\\n\", classification_report(all_labels, all_preds, target_names=[\"No paráfrasis\", \"Paráfrasis\"]))\n",
    "\n",
    "# --- Matriz de confusión ---\n",
    "cm = confusion_matrix(all_labels, all_preds)\n",
    "\n",
    "plt.figure(figsize=(5,4))\n",
    "sns.heatmap(cm, annot=True, fmt=\"d\", cmap=\"Blues\",\n",
    "            xticklabels=[\"No paráfrasis\", \"Paráfrasis\"],\n",
    "            yticklabels=[\"No paráfrasis\", \"Paráfrasis\"])\n",
    "plt.xlabel(\"Predicción\")\n",
    "plt.ylabel(\"Etiqueta real\")\n",
    "plt.title(\"Matriz de confusión (Test con class weights)\")\n",
    "plt.show()\n"
   ]
  },
  {
   "cell_type": "markdown",
   "id": "b3f75c4d",
   "metadata": {},
   "source": [
    "## Interpretación de resultados\n",
    "\n",
    "El modelo obtuvo una exactitud del 50.8% en el conjunto de prueba, lo que indica un rendimiento apenas superior al azar en un problema binario. A diferencia de ejecuciones previas, el desempeño se muestra más equilibrado entre ambas clases, con valores de precisión, recall y F1 cercanos en No paráfrasis (0.55, 0.54 y 0.55, respectivamente) y en Paráfrasis (0.46, 0.47 y 0.46). El promedio macro y ponderado de F1 coincide en 0.50, confirmando la ausencia de sesgo pronunciado hacia alguna de las clases. Sin embargo, la baja exactitud global refleja que el modelo no logra capturar patrones discriminativos sólidos, lo cual sugiere la necesidad de arquitecturas más complejas o el empleo de modelos preentrenados que puedan mejorar la capacidad de generalización en esta tarea de clasificación de paráfrasis."
   ]
  },
  {
   "cell_type": "markdown",
   "id": "80051fdf",
   "metadata": {},
   "source": [
    "## Comparación de resultados: LSTM balanceado vs LSTM más equilibrado\n",
    "\n",
    "| Métrica                | LSTM balanceado (sesgo a *No paráfrasis*) | LSTM más equilibrado |\n",
    "|-------------------------|------------------------------------------:|---------------------:|\n",
    "| **Accuracy global**     | 0.541                                    | 0.508                |\n",
    "| **Recall No paráfrasis**| 0.88                                     | 0.54                 |\n",
    "| **Recall Paráfrasis**   | 0.14                                     | 0.47                 |\n",
    "| **F1 No paráfrasis**    | 0.68                                     | 0.55                 |\n",
    "| **F1 Paráfrasis**       | 0.21                                     | 0.46                 |\n",
    "| **Macro F1**            | 0.44                                     | 0.50                 |\n",
    "\n",
    "### Interpretación\n",
    "- El **accuracy global** disminuye (0.54 → 0.51), pero refleja que el modelo equilibrado ya no se limita a favorecer la clase *No paráfrasis*.  \n",
    "- En el modelo balanceado, el **recall en No paráfrasis** es muy alto (0.88), mientras que en *Paráfrasis* es muy bajo (0.14).  \n",
    "- En el modelo más equilibrado, los valores de recall y F1 en ambas clases se aproximan (0.54 vs 0.47 en recall, 0.55 vs 0.46 en F1), mostrando **menos sesgo y mayor equidad entre categorías**.  \n",
    "- El **macro F1** sube de 0.44 → 0.50, confirmando que la segunda variante distribuye mejor el rendimiento entre las dos clases.  \n",
    "\n",
    "## **Conclusión**: \n",
    "\n",
    "El primer modelo logra mayor exactitud global, pero está claramente sesgado hacia *No paráfrasis*. El segundo modelo sacrifica algo de exactitud total para lograr un desempeño **más equilibrado entre ambas clases**, lo cual es más deseable cuando es importante reconocer también los casos positivos de paráfrasis.\n",
    "\n"
   ]
  },
  {
   "cell_type": "code",
   "execution_count": null,
   "id": "f624f448",
   "metadata": {},
   "outputs": [],
   "source": []
  }
 ],
 "metadata": {
  "kernelspec": {
   "display_name": "torch_gpu",
   "language": "python",
   "name": "python3"
  },
  "language_info": {
   "codemirror_mode": {
    "name": "ipython",
    "version": 3
   },
   "file_extension": ".py",
   "mimetype": "text/x-python",
   "name": "python",
   "nbconvert_exporter": "python",
   "pygments_lexer": "ipython3",
   "version": "3.10.18"
  }
 },
 "nbformat": 4,
 "nbformat_minor": 5
}
